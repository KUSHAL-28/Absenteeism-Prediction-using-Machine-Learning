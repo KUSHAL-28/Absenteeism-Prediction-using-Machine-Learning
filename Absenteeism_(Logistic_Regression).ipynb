{
 "cells": [
  {
   "cell_type": "code",
   "execution_count": 391,
   "metadata": {
    "id": "TyshVB5UvbD8"
   },
   "outputs": [],
   "source": [
    "import pandas as pd\n",
    "import numpy as np"
   ]
  },
  {
   "cell_type": "code",
   "execution_count": 392,
   "metadata": {
    "colab": {
     "base_uri": "https://localhost:8080/",
     "height": 307
    },
    "id": "exo9Udu6vql7",
    "outputId": "f79ba5c3-0d5e-4518-ca6b-386896f19a03"
   },
   "outputs": [
    {
     "data": {
      "text/html": [
       "<div>\n",
       "<style scoped>\n",
       "    .dataframe tbody tr th:only-of-type {\n",
       "        vertical-align: middle;\n",
       "    }\n",
       "\n",
       "    .dataframe tbody tr th {\n",
       "        vertical-align: top;\n",
       "    }\n",
       "\n",
       "    .dataframe thead th {\n",
       "        text-align: right;\n",
       "    }\n",
       "</style>\n",
       "<table border=\"1\" class=\"dataframe\">\n",
       "  <thead>\n",
       "    <tr style=\"text-align: right;\">\n",
       "      <th></th>\n",
       "      <th>Reason_1</th>\n",
       "      <th>Reason_2</th>\n",
       "      <th>Reason_3</th>\n",
       "      <th>Reason_4</th>\n",
       "      <th>Month_value</th>\n",
       "      <th>Day of the Week</th>\n",
       "      <th>Transportation Expense</th>\n",
       "      <th>Distance to Work</th>\n",
       "      <th>Age</th>\n",
       "      <th>Daily Work Load Average</th>\n",
       "      <th>Body Mass Index</th>\n",
       "      <th>Education</th>\n",
       "      <th>Children</th>\n",
       "      <th>Pets</th>\n",
       "      <th>Absenteeism Time in Hours</th>\n",
       "    </tr>\n",
       "  </thead>\n",
       "  <tbody>\n",
       "    <tr>\n",
       "      <th>0</th>\n",
       "      <td>0</td>\n",
       "      <td>0</td>\n",
       "      <td>0</td>\n",
       "      <td>1</td>\n",
       "      <td>7</td>\n",
       "      <td>1</td>\n",
       "      <td>289</td>\n",
       "      <td>36</td>\n",
       "      <td>33</td>\n",
       "      <td>239.554</td>\n",
       "      <td>30</td>\n",
       "      <td>0</td>\n",
       "      <td>2</td>\n",
       "      <td>1</td>\n",
       "      <td>4</td>\n",
       "    </tr>\n",
       "    <tr>\n",
       "      <th>1</th>\n",
       "      <td>0</td>\n",
       "      <td>0</td>\n",
       "      <td>0</td>\n",
       "      <td>0</td>\n",
       "      <td>7</td>\n",
       "      <td>1</td>\n",
       "      <td>118</td>\n",
       "      <td>13</td>\n",
       "      <td>50</td>\n",
       "      <td>239.554</td>\n",
       "      <td>31</td>\n",
       "      <td>0</td>\n",
       "      <td>1</td>\n",
       "      <td>0</td>\n",
       "      <td>0</td>\n",
       "    </tr>\n",
       "    <tr>\n",
       "      <th>2</th>\n",
       "      <td>0</td>\n",
       "      <td>0</td>\n",
       "      <td>0</td>\n",
       "      <td>1</td>\n",
       "      <td>7</td>\n",
       "      <td>2</td>\n",
       "      <td>179</td>\n",
       "      <td>51</td>\n",
       "      <td>38</td>\n",
       "      <td>239.554</td>\n",
       "      <td>31</td>\n",
       "      <td>0</td>\n",
       "      <td>0</td>\n",
       "      <td>0</td>\n",
       "      <td>2</td>\n",
       "    </tr>\n",
       "    <tr>\n",
       "      <th>3</th>\n",
       "      <td>1</td>\n",
       "      <td>0</td>\n",
       "      <td>0</td>\n",
       "      <td>0</td>\n",
       "      <td>7</td>\n",
       "      <td>3</td>\n",
       "      <td>279</td>\n",
       "      <td>5</td>\n",
       "      <td>39</td>\n",
       "      <td>239.554</td>\n",
       "      <td>24</td>\n",
       "      <td>0</td>\n",
       "      <td>2</td>\n",
       "      <td>0</td>\n",
       "      <td>4</td>\n",
       "    </tr>\n",
       "    <tr>\n",
       "      <th>4</th>\n",
       "      <td>0</td>\n",
       "      <td>0</td>\n",
       "      <td>0</td>\n",
       "      <td>1</td>\n",
       "      <td>7</td>\n",
       "      <td>3</td>\n",
       "      <td>289</td>\n",
       "      <td>36</td>\n",
       "      <td>33</td>\n",
       "      <td>239.554</td>\n",
       "      <td>30</td>\n",
       "      <td>0</td>\n",
       "      <td>2</td>\n",
       "      <td>1</td>\n",
       "      <td>2</td>\n",
       "    </tr>\n",
       "  </tbody>\n",
       "</table>\n",
       "</div>"
      ],
      "text/plain": [
       "   Reason_1  Reason_2  Reason_3  Reason_4  Month_value  Day of the Week  \\\n",
       "0         0         0         0         1            7                1   \n",
       "1         0         0         0         0            7                1   \n",
       "2         0         0         0         1            7                2   \n",
       "3         1         0         0         0            7                3   \n",
       "4         0         0         0         1            7                3   \n",
       "\n",
       "   Transportation Expense  Distance to Work  Age  Daily Work Load Average  \\\n",
       "0                     289                36   33                  239.554   \n",
       "1                     118                13   50                  239.554   \n",
       "2                     179                51   38                  239.554   \n",
       "3                     279                 5   39                  239.554   \n",
       "4                     289                36   33                  239.554   \n",
       "\n",
       "   Body Mass Index  Education  Children  Pets  Absenteeism Time in Hours  \n",
       "0               30          0         2     1                          4  \n",
       "1               31          0         1     0                          0  \n",
       "2               31          0         0     0                          2  \n",
       "3               24          0         2     0                          4  \n",
       "4               30          0         2     1                          2  "
      ]
     },
     "execution_count": 392,
     "metadata": {},
     "output_type": "execute_result"
    }
   ],
   "source": [
    "data=pd.read_csv('absenteeism_perprocessed.csv')\n",
    "data.head()"
   ]
  },
  {
   "cell_type": "markdown",
   "metadata": {
    "id": "65qNizW8v2wm"
   },
   "source": [
    "## Create Targets\n",
    "Logistic regression is a type of classification. So we will be basically classifying people into classes. What are these classes?.We will use here is to create two classes, 1 representing people who have been excessively absent, and another, which represents people that haven't. For this exercise, we will use a methodology, which is a tiny bit naive, but quite numerically stable. We will take. the will take the median value of the absenteeism time and our cell. Everything below the median would be considered normal. Everything above the median would be excessive."
   ]
  },
  {
   "cell_type": "code",
   "execution_count": 394,
   "metadata": {
    "colab": {
     "base_uri": "https://localhost:8080/"
    },
    "id": "jKk5XPZ8v6hF",
    "outputId": "ad3829a0-c145-4fbe-e88d-bd8ab57dc651"
   },
   "outputs": [
    {
     "data": {
      "text/plain": [
       "3.0"
      ]
     },
     "execution_count": 394,
     "metadata": {},
     "output_type": "execute_result"
    }
   ],
   "source": [
    "data['Absenteeism Time in Hours'].median()"
   ]
  },
  {
   "cell_type": "code",
   "execution_count": 395,
   "metadata": {
    "colab": {
     "base_uri": "https://localhost:8080/"
    },
    "id": "XB96uK20MVAb",
    "outputId": "08f8d2ad-cc4d-4834-8ef3-9cc2fe3f90be"
   },
   "outputs": [
    {
     "data": {
      "text/plain": [
       "array([1, 0, 0, 1, 0, 0, 1, 1, 1, 1, 1, 1, 1, 0, 1, 1, 0, 1, 1, 0, 1, 0,\n",
       "       1, 1, 1, 1, 0, 1, 1, 0, 1, 1, 1, 1, 0, 0, 1, 1, 1, 1, 0, 1, 1, 1,\n",
       "       0, 0, 0, 1, 1, 1, 0, 0, 0, 0, 0, 0, 0, 0, 0, 0, 0, 1, 0, 0, 0, 0,\n",
       "       0, 0, 0, 0, 0, 1, 1, 0, 1, 1, 0, 1, 0, 0, 0, 0, 1, 1, 1, 1, 1, 1,\n",
       "       0, 1, 0, 1, 0, 1, 0, 0, 1, 0, 0, 1, 0, 1, 0, 1, 1, 1, 0, 0, 0, 1,\n",
       "       0, 1, 0, 0, 0, 0, 1, 0, 0, 0, 0, 0, 0, 0, 0, 0, 0, 0, 0, 1, 1, 0,\n",
       "       0, 0, 0, 0, 0, 0, 1, 1, 0, 1, 0, 1, 1, 1, 0, 0, 0, 1, 0, 1, 0, 0,\n",
       "       1, 0, 1, 0, 1, 1, 1, 1, 0, 1, 1, 1, 1, 1, 1, 1, 1, 0, 1, 1, 0, 1,\n",
       "       0, 1, 1, 0, 1, 0, 0, 0, 0, 0, 0, 1, 0, 0, 1, 1, 0, 0, 1, 0, 1, 1,\n",
       "       1, 1, 1, 1, 0, 0, 1, 0, 0, 1, 1, 1, 0, 0, 1, 0, 0, 0, 0, 0, 1, 1,\n",
       "       1, 1, 1, 1, 1, 1, 1, 1, 1, 1, 0, 1, 1, 0, 0, 0, 1, 1, 1, 1, 1, 1,\n",
       "       0, 1, 1, 0, 1, 1, 1, 1, 1, 0, 1, 0, 0, 1, 0, 0, 1, 1, 0, 1, 0, 0,\n",
       "       0, 0, 0, 1, 1, 1, 1, 0, 1, 0, 1, 0, 0, 0, 1, 1, 0, 1, 1, 1, 0, 0,\n",
       "       0, 1, 1, 1, 1, 1, 1, 0, 0, 1, 0, 1, 0, 1, 0, 1, 0, 0, 0, 0, 0, 1,\n",
       "       1, 0, 1, 0, 0, 0, 1, 1, 0, 1, 0, 1, 0, 0, 1, 1, 1, 0, 0, 0, 0, 0,\n",
       "       1, 1, 1, 0, 1, 1, 0, 0, 0, 0, 0, 0, 0, 0, 1, 1, 0, 0, 0, 1, 0, 0,\n",
       "       1, 1, 1, 0, 0, 1, 1, 1, 0, 0, 1, 1, 1, 1, 1, 0, 0, 0, 0, 0, 0, 0,\n",
       "       0, 0, 0, 1, 1, 0, 1, 0, 0, 0, 1, 0, 0, 1, 0, 0, 1, 1, 0, 1, 0, 1,\n",
       "       1, 1, 1, 1, 0, 1, 0, 0, 1, 0, 0, 0, 1, 1, 1, 0, 1, 0, 1, 1, 1, 1,\n",
       "       1, 0, 1, 1, 1, 1, 0, 1, 0, 1, 0, 1, 0, 0, 0, 0, 1, 0, 1, 0, 0, 1,\n",
       "       0, 0, 0, 0, 1, 1, 0, 1, 1, 0, 1, 1, 0, 0, 0, 1, 0, 0, 0, 1, 0, 1,\n",
       "       1, 1, 1, 1, 1, 1, 1, 0, 0, 1, 0, 0, 1, 1, 1, 0, 0, 0, 1, 0, 1, 1,\n",
       "       1, 1, 1, 1, 1, 1, 1, 0, 1, 0, 0, 0, 0, 0, 0, 0, 1, 0, 1, 0, 0, 1,\n",
       "       1, 0, 0, 1, 0, 0, 0, 0, 0, 0, 1, 0, 1, 1, 0, 0, 0, 1, 0, 1, 0, 1,\n",
       "       1, 1, 0, 0, 0, 0, 1, 0, 1, 1, 1, 1, 1, 0, 0, 0, 0, 1, 1, 0, 0, 0,\n",
       "       1, 0, 0, 1, 0, 1, 0, 0, 0, 0, 0, 1, 0, 1, 1, 1, 0, 0, 0, 1, 1, 1,\n",
       "       0, 0, 0, 0, 1, 0, 0, 1, 0, 0, 1, 0, 0, 1, 0, 1, 0, 0, 0, 0, 0, 0,\n",
       "       0, 0, 1, 0, 0, 0, 0, 0, 0, 0, 0, 0, 1, 0, 1, 0, 0, 0, 0, 0, 0, 0,\n",
       "       0, 0, 0, 0, 0, 0, 1, 0, 0, 0, 0, 0, 0, 1, 1, 0, 0, 0, 1, 0, 0, 1,\n",
       "       0, 1, 0, 0, 0, 0, 0, 0, 0, 1, 1, 0, 0, 0, 1, 1, 1, 1, 1, 1, 1, 0,\n",
       "       1, 0, 0, 0, 0, 1, 0, 1, 0, 0, 1, 1, 0, 0, 1, 0, 0, 0, 1, 0, 0, 1,\n",
       "       1, 1, 0, 0, 0, 0, 0, 0, 0, 0, 1, 1, 1, 1, 0, 1, 0, 0])"
      ]
     },
     "execution_count": 395,
     "metadata": {},
     "output_type": "execute_result"
    }
   ],
   "source": [
    "targets=np.where(data[\"Absenteeism Time in Hours\"]>data['Absenteeism Time in Hours'].median(),1,0)\n",
    "targets"
   ]
  },
  {
   "cell_type": "code",
   "execution_count": 396,
   "metadata": {
    "colab": {
     "base_uri": "https://localhost:8080/",
     "height": 213
    },
    "id": "_GYBwBbdMwlE",
    "outputId": "96094c14-0978-460c-eacd-5f5447d53ddf"
   },
   "outputs": [
    {
     "data": {
      "text/html": [
       "<div>\n",
       "<style scoped>\n",
       "    .dataframe tbody tr th:only-of-type {\n",
       "        vertical-align: middle;\n",
       "    }\n",
       "\n",
       "    .dataframe tbody tr th {\n",
       "        vertical-align: top;\n",
       "    }\n",
       "\n",
       "    .dataframe thead th {\n",
       "        text-align: right;\n",
       "    }\n",
       "</style>\n",
       "<table border=\"1\" class=\"dataframe\">\n",
       "  <thead>\n",
       "    <tr style=\"text-align: right;\">\n",
       "      <th></th>\n",
       "      <th>Reason_1</th>\n",
       "      <th>Reason_2</th>\n",
       "      <th>Reason_3</th>\n",
       "      <th>Reason_4</th>\n",
       "      <th>Month_value</th>\n",
       "      <th>Day of the Week</th>\n",
       "      <th>Transportation Expense</th>\n",
       "      <th>Distance to Work</th>\n",
       "      <th>Age</th>\n",
       "      <th>Daily Work Load Average</th>\n",
       "      <th>Body Mass Index</th>\n",
       "      <th>Education</th>\n",
       "      <th>Children</th>\n",
       "      <th>Pets</th>\n",
       "      <th>Absenteeism Time in Hours</th>\n",
       "      <th>Excessive Absenteeism</th>\n",
       "    </tr>\n",
       "  </thead>\n",
       "  <tbody>\n",
       "    <tr>\n",
       "      <th>0</th>\n",
       "      <td>0</td>\n",
       "      <td>0</td>\n",
       "      <td>0</td>\n",
       "      <td>1</td>\n",
       "      <td>7</td>\n",
       "      <td>1</td>\n",
       "      <td>289</td>\n",
       "      <td>36</td>\n",
       "      <td>33</td>\n",
       "      <td>239.554</td>\n",
       "      <td>30</td>\n",
       "      <td>0</td>\n",
       "      <td>2</td>\n",
       "      <td>1</td>\n",
       "      <td>4</td>\n",
       "      <td>1</td>\n",
       "    </tr>\n",
       "    <tr>\n",
       "      <th>1</th>\n",
       "      <td>0</td>\n",
       "      <td>0</td>\n",
       "      <td>0</td>\n",
       "      <td>0</td>\n",
       "      <td>7</td>\n",
       "      <td>1</td>\n",
       "      <td>118</td>\n",
       "      <td>13</td>\n",
       "      <td>50</td>\n",
       "      <td>239.554</td>\n",
       "      <td>31</td>\n",
       "      <td>0</td>\n",
       "      <td>1</td>\n",
       "      <td>0</td>\n",
       "      <td>0</td>\n",
       "      <td>0</td>\n",
       "    </tr>\n",
       "  </tbody>\n",
       "</table>\n",
       "</div>"
      ],
      "text/plain": [
       "   Reason_1  Reason_2  Reason_3  Reason_4  Month_value  Day of the Week  \\\n",
       "0         0         0         0         1            7                1   \n",
       "1         0         0         0         0            7                1   \n",
       "\n",
       "   Transportation Expense  Distance to Work  Age  Daily Work Load Average  \\\n",
       "0                     289                36   33                  239.554   \n",
       "1                     118                13   50                  239.554   \n",
       "\n",
       "   Body Mass Index  Education  Children  Pets  Absenteeism Time in Hours  \\\n",
       "0               30          0         2     1                          4   \n",
       "1               31          0         1     0                          0   \n",
       "\n",
       "   Excessive Absenteeism  \n",
       "0                      1  \n",
       "1                      0  "
      ]
     },
     "execution_count": 396,
     "metadata": {},
     "output_type": "execute_result"
    }
   ],
   "source": [
    "data[\"Excessive Absenteeism\"]=targets\n",
    "data.head(2)"
   ]
  },
  {
   "cell_type": "code",
   "execution_count": 397,
   "metadata": {
    "colab": {
     "base_uri": "https://localhost:8080/"
    },
    "id": "wts1Tgd7ND3r",
    "outputId": "f4db3fe8-e3e8-45b9-a7c2-e5c18ca4f718"
   },
   "outputs": [
    {
     "data": {
      "text/plain": [
       "0.45571428571428574"
      ]
     },
     "execution_count": 397,
     "metadata": {},
     "output_type": "execute_result"
    }
   ],
   "source": [
    "targets.sum()/targets.shape[0]"
   ]
  },
  {
   "cell_type": "markdown",
   "metadata": {
    "id": "bh_6PcK8NY-G"
   },
   "source": [
    "46% 1's and 54% 0's so balanced"
   ]
  },
  {
   "cell_type": "code",
   "execution_count": 399,
   "metadata": {
    "colab": {
     "base_uri": "https://localhost:8080/",
     "height": 213
    },
    "id": "QpHLfIZTNi0K",
    "outputId": "240dadf9-382b-4ad5-ad8c-4cee4fbd21de"
   },
   "outputs": [
    {
     "data": {
      "text/html": [
       "<div>\n",
       "<style scoped>\n",
       "    .dataframe tbody tr th:only-of-type {\n",
       "        vertical-align: middle;\n",
       "    }\n",
       "\n",
       "    .dataframe tbody tr th {\n",
       "        vertical-align: top;\n",
       "    }\n",
       "\n",
       "    .dataframe thead th {\n",
       "        text-align: right;\n",
       "    }\n",
       "</style>\n",
       "<table border=\"1\" class=\"dataframe\">\n",
       "  <thead>\n",
       "    <tr style=\"text-align: right;\">\n",
       "      <th></th>\n",
       "      <th>Reason_1</th>\n",
       "      <th>Reason_2</th>\n",
       "      <th>Reason_3</th>\n",
       "      <th>Reason_4</th>\n",
       "      <th>Month_value</th>\n",
       "      <th>Transportation Expense</th>\n",
       "      <th>Age</th>\n",
       "      <th>Body Mass Index</th>\n",
       "      <th>Education</th>\n",
       "      <th>Children</th>\n",
       "      <th>Pets</th>\n",
       "      <th>Excessive Absenteeism</th>\n",
       "    </tr>\n",
       "  </thead>\n",
       "  <tbody>\n",
       "    <tr>\n",
       "      <th>0</th>\n",
       "      <td>0</td>\n",
       "      <td>0</td>\n",
       "      <td>0</td>\n",
       "      <td>1</td>\n",
       "      <td>7</td>\n",
       "      <td>289</td>\n",
       "      <td>33</td>\n",
       "      <td>30</td>\n",
       "      <td>0</td>\n",
       "      <td>2</td>\n",
       "      <td>1</td>\n",
       "      <td>1</td>\n",
       "    </tr>\n",
       "    <tr>\n",
       "      <th>1</th>\n",
       "      <td>0</td>\n",
       "      <td>0</td>\n",
       "      <td>0</td>\n",
       "      <td>0</td>\n",
       "      <td>7</td>\n",
       "      <td>118</td>\n",
       "      <td>50</td>\n",
       "      <td>31</td>\n",
       "      <td>0</td>\n",
       "      <td>1</td>\n",
       "      <td>0</td>\n",
       "      <td>0</td>\n",
       "    </tr>\n",
       "  </tbody>\n",
       "</table>\n",
       "</div>"
      ],
      "text/plain": [
       "   Reason_1  Reason_2  Reason_3  Reason_4  Month_value  \\\n",
       "0         0         0         0         1            7   \n",
       "1         0         0         0         0            7   \n",
       "\n",
       "   Transportation Expense  Age  Body Mass Index  Education  Children  Pets  \\\n",
       "0                     289   33               30          0         2     1   \n",
       "1                     118   50               31          0         1     0   \n",
       "\n",
       "   Excessive Absenteeism  \n",
       "0                      1  \n",
       "1                      0  "
      ]
     },
     "execution_count": 399,
     "metadata": {},
     "output_type": "execute_result"
    }
   ],
   "source": [
    "data_targets=data.drop([\"Absenteeism Time in Hours\",\"Day of the Week\",\"Distance to Work\",\"Daily Work Load Average\"],axis=1)\n",
    "data_targets.head(2)"
   ]
  },
  {
   "cell_type": "code",
   "execution_count": 400,
   "metadata": {
    "colab": {
     "base_uri": "https://localhost:8080/"
    },
    "id": "AkwAbLFCOOcw",
    "outputId": "e537c940-284b-4ccc-c712-0ebfabb00e76"
   },
   "outputs": [
    {
     "data": {
      "text/plain": [
       "False"
      ]
     },
     "execution_count": 400,
     "metadata": {},
     "output_type": "execute_result"
    }
   ],
   "source": [
    "data_targets is data"
   ]
  },
  {
   "cell_type": "markdown",
   "metadata": {
    "id": "xSydcybSOXUZ"
   },
   "source": [
    "### Selecting the inputs"
   ]
  },
  {
   "cell_type": "code",
   "execution_count": 402,
   "metadata": {
    "colab": {
     "base_uri": "https://localhost:8080/"
    },
    "id": "1kEHrBGlORnh",
    "outputId": "eba6f40a-8692-4af8-c2c7-9b7235056d1f"
   },
   "outputs": [
    {
     "data": {
      "text/plain": [
       "(700, 12)"
      ]
     },
     "execution_count": 402,
     "metadata": {},
     "output_type": "execute_result"
    }
   ],
   "source": [
    "data_targets.shape"
   ]
  },
  {
   "cell_type": "code",
   "execution_count": 403,
   "metadata": {
    "colab": {
     "base_uri": "https://localhost:8080/",
     "height": 495
    },
    "id": "35Lusw6iOloW",
    "outputId": "72ed81d6-f2e3-4f75-de39-56540df9411e"
   },
   "outputs": [
    {
     "data": {
      "text/html": [
       "<div>\n",
       "<style scoped>\n",
       "    .dataframe tbody tr th:only-of-type {\n",
       "        vertical-align: middle;\n",
       "    }\n",
       "\n",
       "    .dataframe tbody tr th {\n",
       "        vertical-align: top;\n",
       "    }\n",
       "\n",
       "    .dataframe thead th {\n",
       "        text-align: right;\n",
       "    }\n",
       "</style>\n",
       "<table border=\"1\" class=\"dataframe\">\n",
       "  <thead>\n",
       "    <tr style=\"text-align: right;\">\n",
       "      <th></th>\n",
       "      <th>Reason_1</th>\n",
       "      <th>Reason_2</th>\n",
       "      <th>Reason_3</th>\n",
       "      <th>Reason_4</th>\n",
       "      <th>Month_value</th>\n",
       "      <th>Transportation Expense</th>\n",
       "      <th>Age</th>\n",
       "      <th>Body Mass Index</th>\n",
       "      <th>Education</th>\n",
       "      <th>Children</th>\n",
       "      <th>Pets</th>\n",
       "    </tr>\n",
       "  </thead>\n",
       "  <tbody>\n",
       "    <tr>\n",
       "      <th>0</th>\n",
       "      <td>0</td>\n",
       "      <td>0</td>\n",
       "      <td>0</td>\n",
       "      <td>1</td>\n",
       "      <td>7</td>\n",
       "      <td>289</td>\n",
       "      <td>33</td>\n",
       "      <td>30</td>\n",
       "      <td>0</td>\n",
       "      <td>2</td>\n",
       "      <td>1</td>\n",
       "    </tr>\n",
       "    <tr>\n",
       "      <th>1</th>\n",
       "      <td>0</td>\n",
       "      <td>0</td>\n",
       "      <td>0</td>\n",
       "      <td>0</td>\n",
       "      <td>7</td>\n",
       "      <td>118</td>\n",
       "      <td>50</td>\n",
       "      <td>31</td>\n",
       "      <td>0</td>\n",
       "      <td>1</td>\n",
       "      <td>0</td>\n",
       "    </tr>\n",
       "    <tr>\n",
       "      <th>2</th>\n",
       "      <td>0</td>\n",
       "      <td>0</td>\n",
       "      <td>0</td>\n",
       "      <td>1</td>\n",
       "      <td>7</td>\n",
       "      <td>179</td>\n",
       "      <td>38</td>\n",
       "      <td>31</td>\n",
       "      <td>0</td>\n",
       "      <td>0</td>\n",
       "      <td>0</td>\n",
       "    </tr>\n",
       "    <tr>\n",
       "      <th>3</th>\n",
       "      <td>1</td>\n",
       "      <td>0</td>\n",
       "      <td>0</td>\n",
       "      <td>0</td>\n",
       "      <td>7</td>\n",
       "      <td>279</td>\n",
       "      <td>39</td>\n",
       "      <td>24</td>\n",
       "      <td>0</td>\n",
       "      <td>2</td>\n",
       "      <td>0</td>\n",
       "    </tr>\n",
       "    <tr>\n",
       "      <th>4</th>\n",
       "      <td>0</td>\n",
       "      <td>0</td>\n",
       "      <td>0</td>\n",
       "      <td>1</td>\n",
       "      <td>7</td>\n",
       "      <td>289</td>\n",
       "      <td>33</td>\n",
       "      <td>30</td>\n",
       "      <td>0</td>\n",
       "      <td>2</td>\n",
       "      <td>1</td>\n",
       "    </tr>\n",
       "    <tr>\n",
       "      <th>...</th>\n",
       "      <td>...</td>\n",
       "      <td>...</td>\n",
       "      <td>...</td>\n",
       "      <td>...</td>\n",
       "      <td>...</td>\n",
       "      <td>...</td>\n",
       "      <td>...</td>\n",
       "      <td>...</td>\n",
       "      <td>...</td>\n",
       "      <td>...</td>\n",
       "      <td>...</td>\n",
       "    </tr>\n",
       "    <tr>\n",
       "      <th>695</th>\n",
       "      <td>1</td>\n",
       "      <td>0</td>\n",
       "      <td>0</td>\n",
       "      <td>0</td>\n",
       "      <td>5</td>\n",
       "      <td>179</td>\n",
       "      <td>40</td>\n",
       "      <td>22</td>\n",
       "      <td>1</td>\n",
       "      <td>2</td>\n",
       "      <td>0</td>\n",
       "    </tr>\n",
       "    <tr>\n",
       "      <th>696</th>\n",
       "      <td>1</td>\n",
       "      <td>0</td>\n",
       "      <td>0</td>\n",
       "      <td>0</td>\n",
       "      <td>5</td>\n",
       "      <td>225</td>\n",
       "      <td>28</td>\n",
       "      <td>24</td>\n",
       "      <td>0</td>\n",
       "      <td>1</td>\n",
       "      <td>2</td>\n",
       "    </tr>\n",
       "    <tr>\n",
       "      <th>697</th>\n",
       "      <td>1</td>\n",
       "      <td>0</td>\n",
       "      <td>0</td>\n",
       "      <td>0</td>\n",
       "      <td>5</td>\n",
       "      <td>330</td>\n",
       "      <td>28</td>\n",
       "      <td>25</td>\n",
       "      <td>1</td>\n",
       "      <td>0</td>\n",
       "      <td>0</td>\n",
       "    </tr>\n",
       "    <tr>\n",
       "      <th>698</th>\n",
       "      <td>0</td>\n",
       "      <td>0</td>\n",
       "      <td>0</td>\n",
       "      <td>1</td>\n",
       "      <td>5</td>\n",
       "      <td>235</td>\n",
       "      <td>32</td>\n",
       "      <td>25</td>\n",
       "      <td>1</td>\n",
       "      <td>0</td>\n",
       "      <td>0</td>\n",
       "    </tr>\n",
       "    <tr>\n",
       "      <th>699</th>\n",
       "      <td>0</td>\n",
       "      <td>0</td>\n",
       "      <td>0</td>\n",
       "      <td>1</td>\n",
       "      <td>5</td>\n",
       "      <td>291</td>\n",
       "      <td>40</td>\n",
       "      <td>25</td>\n",
       "      <td>0</td>\n",
       "      <td>1</td>\n",
       "      <td>1</td>\n",
       "    </tr>\n",
       "  </tbody>\n",
       "</table>\n",
       "<p>700 rows × 11 columns</p>\n",
       "</div>"
      ],
      "text/plain": [
       "     Reason_1  Reason_2  Reason_3  Reason_4  Month_value  \\\n",
       "0           0         0         0         1            7   \n",
       "1           0         0         0         0            7   \n",
       "2           0         0         0         1            7   \n",
       "3           1         0         0         0            7   \n",
       "4           0         0         0         1            7   \n",
       "..        ...       ...       ...       ...          ...   \n",
       "695         1         0         0         0            5   \n",
       "696         1         0         0         0            5   \n",
       "697         1         0         0         0            5   \n",
       "698         0         0         0         1            5   \n",
       "699         0         0         0         1            5   \n",
       "\n",
       "     Transportation Expense  Age  Body Mass Index  Education  Children  Pets  \n",
       "0                       289   33               30          0         2     1  \n",
       "1                       118   50               31          0         1     0  \n",
       "2                       179   38               31          0         0     0  \n",
       "3                       279   39               24          0         2     0  \n",
       "4                       289   33               30          0         2     1  \n",
       "..                      ...  ...              ...        ...       ...   ...  \n",
       "695                     179   40               22          1         2     0  \n",
       "696                     225   28               24          0         1     2  \n",
       "697                     330   28               25          1         0     0  \n",
       "698                     235   32               25          1         0     0  \n",
       "699                     291   40               25          0         1     1  \n",
       "\n",
       "[700 rows x 11 columns]"
      ]
     },
     "execution_count": 403,
     "metadata": {},
     "output_type": "execute_result"
    }
   ],
   "source": [
    "#selecting all rows and columns except excessive absenteeism\n",
    "data_targets.iloc[:,:-1]"
   ]
  },
  {
   "cell_type": "code",
   "execution_count": 404,
   "metadata": {
    "id": "rTHw0REOQA4T"
   },
   "outputs": [],
   "source": [
    "unscaled_inputs=data_targets.iloc[:,:-1]"
   ]
  },
  {
   "cell_type": "markdown",
   "metadata": {
    "id": "3K2mRrYVTY8A"
   },
   "source": [
    "### Standardize the data"
   ]
  },
  {
   "cell_type": "code",
   "execution_count": 406,
   "metadata": {
    "id": "sxAKkSKPTflZ"
   },
   "outputs": [],
   "source": [
    "from sklearn.preprocessing import StandardScaler\n",
    "absent_scaler=StandardScaler()"
   ]
  },
  {
   "cell_type": "markdown",
   "metadata": {
    "id": "VcYJuuT9L4qd"
   },
   "source": [
    "![{4E6E54BB-D762-4C63-99F3-E62C18D72FE9}.png](data:image/png;base64,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)\n",
    "this we do but we have a problem\n",
    "But we had standardized the dummy variables in this, which. changes the whole meaning of why we are using the dummy variables.We have to not change the dummy variables that is reason_1 reason_2 reason. as we have changed all of them. Now we have to retrieve it back.\n",
    "so we use custom scaling"
   ]
  },
  {
   "cell_type": "code",
   "execution_count": 408,
   "metadata": {
    "id": "h9WMyATaNSeS"
   },
   "outputs": [],
   "source": [
    "from sklearn.base import BaseEstimator,TransformerMixin\n",
    "from sklearn.preprocessing import StandardScaler\n",
    "\n",
    "class CustomScaler(BaseEstimator,TransformerMixin):\n",
    "  def __init__(self,columns):\n",
    "    self.scaler=StandardScaler()\n",
    "    self.columns=columns\n",
    "    self.mean_=None\n",
    "    self.var_=None\n",
    "\n",
    "  def fit(self,X,y=None):\n",
    "    self.scaler.fit(X[self.columns])\n",
    "    self.mean_=np.mean(X[self.columns])\n",
    "    self.var_=np.var(X[self.columns])\n",
    "    return self\n",
    "\n",
    "  def transform(self,X,y=None,copy=None):\n",
    "    init_col_order=X.columns\n",
    "    X_scaled=pd.DataFrame(self.scaler.transform(X[self.columns]),columns=self.columns)\n",
    "    X_not_scaled=X.loc[:,~X.columns.isin(self.columns)]\n",
    "    return pd.concat([X_not_scaled,X_scaled],axis=1)[init_col_order]"
   ]
  },
  {
   "cell_type": "code",
   "execution_count": 409,
   "metadata": {
    "colab": {
     "base_uri": "https://localhost:8080/"
    },
    "id": "9r9-AX7oNdFq",
    "outputId": "042c96fe-99bb-4cd0-aef2-f2a74d5ad25a"
   },
   "outputs": [
    {
     "data": {
      "text/plain": [
       "array(['Reason_1', 'Reason_2', 'Reason_3', 'Reason_4', 'Month_value',\n",
       "       'Transportation Expense', 'Age', 'Body Mass Index', 'Education',\n",
       "       'Children', 'Pets'], dtype=object)"
      ]
     },
     "execution_count": 409,
     "metadata": {},
     "output_type": "execute_result"
    }
   ],
   "source": [
    "unscaled_inputs.columns.values"
   ]
  },
  {
   "cell_type": "code",
   "execution_count": 410,
   "metadata": {
    "id": "dDZk2ewgNbQY"
   },
   "outputs": [],
   "source": [
    "#columns_to_scale=['Month_value','Day of the Week', 'Transportation Expense', 'Distance to Work',\n",
    "       #'Age', 'Daily Work Load Average', 'Body Mass Index', 'Education','Children', 'Pets']\n",
    "columns_to_omit=['Reason_1', 'Reason_2', 'Reason_3', 'Reason_4','Education']"
   ]
  },
  {
   "cell_type": "code",
   "execution_count": 411,
   "metadata": {},
   "outputs": [],
   "source": [
    "columns_to_scale=[x for x in unscaled_inputs.columns.values if x not in columns_to_omit]"
   ]
  },
  {
   "cell_type": "code",
   "execution_count": 412,
   "metadata": {
    "id": "gjSEVmwHN4dH"
   },
   "outputs": [],
   "source": [
    "absent_scaler=CustomScaler(columns_to_scale)"
   ]
  },
  {
   "cell_type": "code",
   "execution_count": 413,
   "metadata": {
    "colab": {
     "base_uri": "https://localhost:8080/",
     "height": 238
    },
    "id": "H2CoQf7ZN4mJ",
    "outputId": "88a1e6f4-f172-4edf-8f92-b338d69d9cd9"
   },
   "outputs": [
    {
     "name": "stderr",
     "output_type": "stream",
     "text": [
      "C:\\Users\\kusha\\anaconda3\\Lib\\site-packages\\numpy\\core\\fromnumeric.py:3785: FutureWarning: The behavior of DataFrame.var with axis=None is deprecated, in a future version this will reduce over both axes and return a scalar. To retain the old behavior, pass axis=0 (or do not pass axis)\n",
      "  return var(axis=axis, dtype=dtype, out=out, ddof=ddof, **kwargs)\n"
     ]
    },
    {
     "data": {
      "text/html": [
       "<style>#sk-container-id-8 {\n",
       "  /* Definition of color scheme common for light and dark mode */\n",
       "  --sklearn-color-text: black;\n",
       "  --sklearn-color-line: gray;\n",
       "  /* Definition of color scheme for unfitted estimators */\n",
       "  --sklearn-color-unfitted-level-0: #fff5e6;\n",
       "  --sklearn-color-unfitted-level-1: #f6e4d2;\n",
       "  --sklearn-color-unfitted-level-2: #ffe0b3;\n",
       "  --sklearn-color-unfitted-level-3: chocolate;\n",
       "  /* Definition of color scheme for fitted estimators */\n",
       "  --sklearn-color-fitted-level-0: #f0f8ff;\n",
       "  --sklearn-color-fitted-level-1: #d4ebff;\n",
       "  --sklearn-color-fitted-level-2: #b3dbfd;\n",
       "  --sklearn-color-fitted-level-3: cornflowerblue;\n",
       "\n",
       "  /* Specific color for light theme */\n",
       "  --sklearn-color-text-on-default-background: var(--sg-text-color, var(--theme-code-foreground, var(--jp-content-font-color1, black)));\n",
       "  --sklearn-color-background: var(--sg-background-color, var(--theme-background, var(--jp-layout-color0, white)));\n",
       "  --sklearn-color-border-box: var(--sg-text-color, var(--theme-code-foreground, var(--jp-content-font-color1, black)));\n",
       "  --sklearn-color-icon: #696969;\n",
       "\n",
       "  @media (prefers-color-scheme: dark) {\n",
       "    /* Redefinition of color scheme for dark theme */\n",
       "    --sklearn-color-text-on-default-background: var(--sg-text-color, var(--theme-code-foreground, var(--jp-content-font-color1, white)));\n",
       "    --sklearn-color-background: var(--sg-background-color, var(--theme-background, var(--jp-layout-color0, #111)));\n",
       "    --sklearn-color-border-box: var(--sg-text-color, var(--theme-code-foreground, var(--jp-content-font-color1, white)));\n",
       "    --sklearn-color-icon: #878787;\n",
       "  }\n",
       "}\n",
       "\n",
       "#sk-container-id-8 {\n",
       "  color: var(--sklearn-color-text);\n",
       "}\n",
       "\n",
       "#sk-container-id-8 pre {\n",
       "  padding: 0;\n",
       "}\n",
       "\n",
       "#sk-container-id-8 input.sk-hidden--visually {\n",
       "  border: 0;\n",
       "  clip: rect(1px 1px 1px 1px);\n",
       "  clip: rect(1px, 1px, 1px, 1px);\n",
       "  height: 1px;\n",
       "  margin: -1px;\n",
       "  overflow: hidden;\n",
       "  padding: 0;\n",
       "  position: absolute;\n",
       "  width: 1px;\n",
       "}\n",
       "\n",
       "#sk-container-id-8 div.sk-dashed-wrapped {\n",
       "  border: 1px dashed var(--sklearn-color-line);\n",
       "  margin: 0 0.4em 0.5em 0.4em;\n",
       "  box-sizing: border-box;\n",
       "  padding-bottom: 0.4em;\n",
       "  background-color: var(--sklearn-color-background);\n",
       "}\n",
       "\n",
       "#sk-container-id-8 div.sk-container {\n",
       "  /* jupyter's `normalize.less` sets `[hidden] { display: none; }`\n",
       "     but bootstrap.min.css set `[hidden] { display: none !important; }`\n",
       "     so we also need the `!important` here to be able to override the\n",
       "     default hidden behavior on the sphinx rendered scikit-learn.org.\n",
       "     See: https://github.com/scikit-learn/scikit-learn/issues/21755 */\n",
       "  display: inline-block !important;\n",
       "  position: relative;\n",
       "}\n",
       "\n",
       "#sk-container-id-8 div.sk-text-repr-fallback {\n",
       "  display: none;\n",
       "}\n",
       "\n",
       "div.sk-parallel-item,\n",
       "div.sk-serial,\n",
       "div.sk-item {\n",
       "  /* draw centered vertical line to link estimators */\n",
       "  background-image: linear-gradient(var(--sklearn-color-text-on-default-background), var(--sklearn-color-text-on-default-background));\n",
       "  background-size: 2px 100%;\n",
       "  background-repeat: no-repeat;\n",
       "  background-position: center center;\n",
       "}\n",
       "\n",
       "/* Parallel-specific style estimator block */\n",
       "\n",
       "#sk-container-id-8 div.sk-parallel-item::after {\n",
       "  content: \"\";\n",
       "  width: 100%;\n",
       "  border-bottom: 2px solid var(--sklearn-color-text-on-default-background);\n",
       "  flex-grow: 1;\n",
       "}\n",
       "\n",
       "#sk-container-id-8 div.sk-parallel {\n",
       "  display: flex;\n",
       "  align-items: stretch;\n",
       "  justify-content: center;\n",
       "  background-color: var(--sklearn-color-background);\n",
       "  position: relative;\n",
       "}\n",
       "\n",
       "#sk-container-id-8 div.sk-parallel-item {\n",
       "  display: flex;\n",
       "  flex-direction: column;\n",
       "}\n",
       "\n",
       "#sk-container-id-8 div.sk-parallel-item:first-child::after {\n",
       "  align-self: flex-end;\n",
       "  width: 50%;\n",
       "}\n",
       "\n",
       "#sk-container-id-8 div.sk-parallel-item:last-child::after {\n",
       "  align-self: flex-start;\n",
       "  width: 50%;\n",
       "}\n",
       "\n",
       "#sk-container-id-8 div.sk-parallel-item:only-child::after {\n",
       "  width: 0;\n",
       "}\n",
       "\n",
       "/* Serial-specific style estimator block */\n",
       "\n",
       "#sk-container-id-8 div.sk-serial {\n",
       "  display: flex;\n",
       "  flex-direction: column;\n",
       "  align-items: center;\n",
       "  background-color: var(--sklearn-color-background);\n",
       "  padding-right: 1em;\n",
       "  padding-left: 1em;\n",
       "}\n",
       "\n",
       "\n",
       "/* Toggleable style: style used for estimator/Pipeline/ColumnTransformer box that is\n",
       "clickable and can be expanded/collapsed.\n",
       "- Pipeline and ColumnTransformer use this feature and define the default style\n",
       "- Estimators will overwrite some part of the style using the `sk-estimator` class\n",
       "*/\n",
       "\n",
       "/* Pipeline and ColumnTransformer style (default) */\n",
       "\n",
       "#sk-container-id-8 div.sk-toggleable {\n",
       "  /* Default theme specific background. It is overwritten whether we have a\n",
       "  specific estimator or a Pipeline/ColumnTransformer */\n",
       "  background-color: var(--sklearn-color-background);\n",
       "}\n",
       "\n",
       "/* Toggleable label */\n",
       "#sk-container-id-8 label.sk-toggleable__label {\n",
       "  cursor: pointer;\n",
       "  display: block;\n",
       "  width: 100%;\n",
       "  margin-bottom: 0;\n",
       "  padding: 0.5em;\n",
       "  box-sizing: border-box;\n",
       "  text-align: center;\n",
       "}\n",
       "\n",
       "#sk-container-id-8 label.sk-toggleable__label-arrow:before {\n",
       "  /* Arrow on the left of the label */\n",
       "  content: \"▸\";\n",
       "  float: left;\n",
       "  margin-right: 0.25em;\n",
       "  color: var(--sklearn-color-icon);\n",
       "}\n",
       "\n",
       "#sk-container-id-8 label.sk-toggleable__label-arrow:hover:before {\n",
       "  color: var(--sklearn-color-text);\n",
       "}\n",
       "\n",
       "/* Toggleable content - dropdown */\n",
       "\n",
       "#sk-container-id-8 div.sk-toggleable__content {\n",
       "  max-height: 0;\n",
       "  max-width: 0;\n",
       "  overflow: hidden;\n",
       "  text-align: left;\n",
       "  /* unfitted */\n",
       "  background-color: var(--sklearn-color-unfitted-level-0);\n",
       "}\n",
       "\n",
       "#sk-container-id-8 div.sk-toggleable__content.fitted {\n",
       "  /* fitted */\n",
       "  background-color: var(--sklearn-color-fitted-level-0);\n",
       "}\n",
       "\n",
       "#sk-container-id-8 div.sk-toggleable__content pre {\n",
       "  margin: 0.2em;\n",
       "  border-radius: 0.25em;\n",
       "  color: var(--sklearn-color-text);\n",
       "  /* unfitted */\n",
       "  background-color: var(--sklearn-color-unfitted-level-0);\n",
       "}\n",
       "\n",
       "#sk-container-id-8 div.sk-toggleable__content.fitted pre {\n",
       "  /* unfitted */\n",
       "  background-color: var(--sklearn-color-fitted-level-0);\n",
       "}\n",
       "\n",
       "#sk-container-id-8 input.sk-toggleable__control:checked~div.sk-toggleable__content {\n",
       "  /* Expand drop-down */\n",
       "  max-height: 200px;\n",
       "  max-width: 100%;\n",
       "  overflow: auto;\n",
       "}\n",
       "\n",
       "#sk-container-id-8 input.sk-toggleable__control:checked~label.sk-toggleable__label-arrow:before {\n",
       "  content: \"▾\";\n",
       "}\n",
       "\n",
       "/* Pipeline/ColumnTransformer-specific style */\n",
       "\n",
       "#sk-container-id-8 div.sk-label input.sk-toggleable__control:checked~label.sk-toggleable__label {\n",
       "  color: var(--sklearn-color-text);\n",
       "  background-color: var(--sklearn-color-unfitted-level-2);\n",
       "}\n",
       "\n",
       "#sk-container-id-8 div.sk-label.fitted input.sk-toggleable__control:checked~label.sk-toggleable__label {\n",
       "  background-color: var(--sklearn-color-fitted-level-2);\n",
       "}\n",
       "\n",
       "/* Estimator-specific style */\n",
       "\n",
       "/* Colorize estimator box */\n",
       "#sk-container-id-8 div.sk-estimator input.sk-toggleable__control:checked~label.sk-toggleable__label {\n",
       "  /* unfitted */\n",
       "  background-color: var(--sklearn-color-unfitted-level-2);\n",
       "}\n",
       "\n",
       "#sk-container-id-8 div.sk-estimator.fitted input.sk-toggleable__control:checked~label.sk-toggleable__label {\n",
       "  /* fitted */\n",
       "  background-color: var(--sklearn-color-fitted-level-2);\n",
       "}\n",
       "\n",
       "#sk-container-id-8 div.sk-label label.sk-toggleable__label,\n",
       "#sk-container-id-8 div.sk-label label {\n",
       "  /* The background is the default theme color */\n",
       "  color: var(--sklearn-color-text-on-default-background);\n",
       "}\n",
       "\n",
       "/* On hover, darken the color of the background */\n",
       "#sk-container-id-8 div.sk-label:hover label.sk-toggleable__label {\n",
       "  color: var(--sklearn-color-text);\n",
       "  background-color: var(--sklearn-color-unfitted-level-2);\n",
       "}\n",
       "\n",
       "/* Label box, darken color on hover, fitted */\n",
       "#sk-container-id-8 div.sk-label.fitted:hover label.sk-toggleable__label.fitted {\n",
       "  color: var(--sklearn-color-text);\n",
       "  background-color: var(--sklearn-color-fitted-level-2);\n",
       "}\n",
       "\n",
       "/* Estimator label */\n",
       "\n",
       "#sk-container-id-8 div.sk-label label {\n",
       "  font-family: monospace;\n",
       "  font-weight: bold;\n",
       "  display: inline-block;\n",
       "  line-height: 1.2em;\n",
       "}\n",
       "\n",
       "#sk-container-id-8 div.sk-label-container {\n",
       "  text-align: center;\n",
       "}\n",
       "\n",
       "/* Estimator-specific */\n",
       "#sk-container-id-8 div.sk-estimator {\n",
       "  font-family: monospace;\n",
       "  border: 1px dotted var(--sklearn-color-border-box);\n",
       "  border-radius: 0.25em;\n",
       "  box-sizing: border-box;\n",
       "  margin-bottom: 0.5em;\n",
       "  /* unfitted */\n",
       "  background-color: var(--sklearn-color-unfitted-level-0);\n",
       "}\n",
       "\n",
       "#sk-container-id-8 div.sk-estimator.fitted {\n",
       "  /* fitted */\n",
       "  background-color: var(--sklearn-color-fitted-level-0);\n",
       "}\n",
       "\n",
       "/* on hover */\n",
       "#sk-container-id-8 div.sk-estimator:hover {\n",
       "  /* unfitted */\n",
       "  background-color: var(--sklearn-color-unfitted-level-2);\n",
       "}\n",
       "\n",
       "#sk-container-id-8 div.sk-estimator.fitted:hover {\n",
       "  /* fitted */\n",
       "  background-color: var(--sklearn-color-fitted-level-2);\n",
       "}\n",
       "\n",
       "/* Specification for estimator info (e.g. \"i\" and \"?\") */\n",
       "\n",
       "/* Common style for \"i\" and \"?\" */\n",
       "\n",
       ".sk-estimator-doc-link,\n",
       "a:link.sk-estimator-doc-link,\n",
       "a:visited.sk-estimator-doc-link {\n",
       "  float: right;\n",
       "  font-size: smaller;\n",
       "  line-height: 1em;\n",
       "  font-family: monospace;\n",
       "  background-color: var(--sklearn-color-background);\n",
       "  border-radius: 1em;\n",
       "  height: 1em;\n",
       "  width: 1em;\n",
       "  text-decoration: none !important;\n",
       "  margin-left: 1ex;\n",
       "  /* unfitted */\n",
       "  border: var(--sklearn-color-unfitted-level-1) 1pt solid;\n",
       "  color: var(--sklearn-color-unfitted-level-1);\n",
       "}\n",
       "\n",
       ".sk-estimator-doc-link.fitted,\n",
       "a:link.sk-estimator-doc-link.fitted,\n",
       "a:visited.sk-estimator-doc-link.fitted {\n",
       "  /* fitted */\n",
       "  border: var(--sklearn-color-fitted-level-1) 1pt solid;\n",
       "  color: var(--sklearn-color-fitted-level-1);\n",
       "}\n",
       "\n",
       "/* On hover */\n",
       "div.sk-estimator:hover .sk-estimator-doc-link:hover,\n",
       ".sk-estimator-doc-link:hover,\n",
       "div.sk-label-container:hover .sk-estimator-doc-link:hover,\n",
       ".sk-estimator-doc-link:hover {\n",
       "  /* unfitted */\n",
       "  background-color: var(--sklearn-color-unfitted-level-3);\n",
       "  color: var(--sklearn-color-background);\n",
       "  text-decoration: none;\n",
       "}\n",
       "\n",
       "div.sk-estimator.fitted:hover .sk-estimator-doc-link.fitted:hover,\n",
       ".sk-estimator-doc-link.fitted:hover,\n",
       "div.sk-label-container:hover .sk-estimator-doc-link.fitted:hover,\n",
       ".sk-estimator-doc-link.fitted:hover {\n",
       "  /* fitted */\n",
       "  background-color: var(--sklearn-color-fitted-level-3);\n",
       "  color: var(--sklearn-color-background);\n",
       "  text-decoration: none;\n",
       "}\n",
       "\n",
       "/* Span, style for the box shown on hovering the info icon */\n",
       ".sk-estimator-doc-link span {\n",
       "  display: none;\n",
       "  z-index: 9999;\n",
       "  position: relative;\n",
       "  font-weight: normal;\n",
       "  right: .2ex;\n",
       "  padding: .5ex;\n",
       "  margin: .5ex;\n",
       "  width: min-content;\n",
       "  min-width: 20ex;\n",
       "  max-width: 50ex;\n",
       "  color: var(--sklearn-color-text);\n",
       "  box-shadow: 2pt 2pt 4pt #999;\n",
       "  /* unfitted */\n",
       "  background: var(--sklearn-color-unfitted-level-0);\n",
       "  border: .5pt solid var(--sklearn-color-unfitted-level-3);\n",
       "}\n",
       "\n",
       ".sk-estimator-doc-link.fitted span {\n",
       "  /* fitted */\n",
       "  background: var(--sklearn-color-fitted-level-0);\n",
       "  border: var(--sklearn-color-fitted-level-3);\n",
       "}\n",
       "\n",
       ".sk-estimator-doc-link:hover span {\n",
       "  display: block;\n",
       "}\n",
       "\n",
       "/* \"?\"-specific style due to the `<a>` HTML tag */\n",
       "\n",
       "#sk-container-id-8 a.estimator_doc_link {\n",
       "  float: right;\n",
       "  font-size: 1rem;\n",
       "  line-height: 1em;\n",
       "  font-family: monospace;\n",
       "  background-color: var(--sklearn-color-background);\n",
       "  border-radius: 1rem;\n",
       "  height: 1rem;\n",
       "  width: 1rem;\n",
       "  text-decoration: none;\n",
       "  /* unfitted */\n",
       "  color: var(--sklearn-color-unfitted-level-1);\n",
       "  border: var(--sklearn-color-unfitted-level-1) 1pt solid;\n",
       "}\n",
       "\n",
       "#sk-container-id-8 a.estimator_doc_link.fitted {\n",
       "  /* fitted */\n",
       "  border: var(--sklearn-color-fitted-level-1) 1pt solid;\n",
       "  color: var(--sklearn-color-fitted-level-1);\n",
       "}\n",
       "\n",
       "/* On hover */\n",
       "#sk-container-id-8 a.estimator_doc_link:hover {\n",
       "  /* unfitted */\n",
       "  background-color: var(--sklearn-color-unfitted-level-3);\n",
       "  color: var(--sklearn-color-background);\n",
       "  text-decoration: none;\n",
       "}\n",
       "\n",
       "#sk-container-id-8 a.estimator_doc_link.fitted:hover {\n",
       "  /* fitted */\n",
       "  background-color: var(--sklearn-color-fitted-level-3);\n",
       "}\n",
       "</style><div id=\"sk-container-id-8\" class=\"sk-top-container\"><div class=\"sk-text-repr-fallback\"><pre>CustomScaler(columns=[&#x27;Month_value&#x27;, &#x27;Transportation Expense&#x27;, &#x27;Age&#x27;,\n",
       "                      &#x27;Body Mass Index&#x27;, &#x27;Children&#x27;, &#x27;Pets&#x27;])</pre><b>In a Jupyter environment, please rerun this cell to show the HTML representation or trust the notebook. <br />On GitHub, the HTML representation is unable to render, please try loading this page with nbviewer.org.</b></div><div class=\"sk-container\" hidden><div class=\"sk-item\"><div class=\"sk-estimator fitted sk-toggleable\"><input class=\"sk-toggleable__control sk-hidden--visually\" id=\"sk-estimator-id-8\" type=\"checkbox\" checked><label for=\"sk-estimator-id-8\" class=\"sk-toggleable__label fitted sk-toggleable__label-arrow fitted\">&nbsp;CustomScaler<span class=\"sk-estimator-doc-link fitted\">i<span>Fitted</span></span></label><div class=\"sk-toggleable__content fitted\"><pre>CustomScaler(columns=[&#x27;Month_value&#x27;, &#x27;Transportation Expense&#x27;, &#x27;Age&#x27;,\n",
       "                      &#x27;Body Mass Index&#x27;, &#x27;Children&#x27;, &#x27;Pets&#x27;])</pre></div> </div></div></div></div>"
      ],
      "text/plain": [
       "CustomScaler(columns=['Month_value', 'Transportation Expense', 'Age',\n",
       "                      'Body Mass Index', 'Children', 'Pets'])"
      ]
     },
     "execution_count": 413,
     "metadata": {},
     "output_type": "execute_result"
    }
   ],
   "source": [
    "absent_scaler.fit(unscaled_inputs)"
   ]
  },
  {
   "cell_type": "markdown",
   "metadata": {
    "id": "LCc5A715VbHP"
   },
   "source": [
    "We have the information with the inputs are still unscaled. We have just prepared the scaling mechanism in order to apply it,we must use another method called transform."
   ]
  },
  {
   "cell_type": "code",
   "execution_count": 415,
   "metadata": {
    "colab": {
     "base_uri": "https://localhost:8080/",
     "height": 495
    },
    "id": "YNmh4pmSUpHR",
    "outputId": "aa6a2943-bcf6-407e-ac78-24131aa7260f"
   },
   "outputs": [
    {
     "data": {
      "text/html": [
       "<div>\n",
       "<style scoped>\n",
       "    .dataframe tbody tr th:only-of-type {\n",
       "        vertical-align: middle;\n",
       "    }\n",
       "\n",
       "    .dataframe tbody tr th {\n",
       "        vertical-align: top;\n",
       "    }\n",
       "\n",
       "    .dataframe thead th {\n",
       "        text-align: right;\n",
       "    }\n",
       "</style>\n",
       "<table border=\"1\" class=\"dataframe\">\n",
       "  <thead>\n",
       "    <tr style=\"text-align: right;\">\n",
       "      <th></th>\n",
       "      <th>Reason_1</th>\n",
       "      <th>Reason_2</th>\n",
       "      <th>Reason_3</th>\n",
       "      <th>Reason_4</th>\n",
       "      <th>Month_value</th>\n",
       "      <th>Transportation Expense</th>\n",
       "      <th>Age</th>\n",
       "      <th>Body Mass Index</th>\n",
       "      <th>Education</th>\n",
       "      <th>Children</th>\n",
       "      <th>Pets</th>\n",
       "    </tr>\n",
       "  </thead>\n",
       "  <tbody>\n",
       "    <tr>\n",
       "      <th>0</th>\n",
       "      <td>0</td>\n",
       "      <td>0</td>\n",
       "      <td>0</td>\n",
       "      <td>1</td>\n",
       "      <td>0.182726</td>\n",
       "      <td>1.005844</td>\n",
       "      <td>-0.536062</td>\n",
       "      <td>0.767431</td>\n",
       "      <td>0</td>\n",
       "      <td>0.880469</td>\n",
       "      <td>0.268487</td>\n",
       "    </tr>\n",
       "    <tr>\n",
       "      <th>1</th>\n",
       "      <td>0</td>\n",
       "      <td>0</td>\n",
       "      <td>0</td>\n",
       "      <td>0</td>\n",
       "      <td>0.182726</td>\n",
       "      <td>-1.574681</td>\n",
       "      <td>2.130803</td>\n",
       "      <td>1.002633</td>\n",
       "      <td>0</td>\n",
       "      <td>-0.019280</td>\n",
       "      <td>-0.589690</td>\n",
       "    </tr>\n",
       "    <tr>\n",
       "      <th>2</th>\n",
       "      <td>0</td>\n",
       "      <td>0</td>\n",
       "      <td>0</td>\n",
       "      <td>1</td>\n",
       "      <td>0.182726</td>\n",
       "      <td>-0.654143</td>\n",
       "      <td>0.248310</td>\n",
       "      <td>1.002633</td>\n",
       "      <td>0</td>\n",
       "      <td>-0.919030</td>\n",
       "      <td>-0.589690</td>\n",
       "    </tr>\n",
       "    <tr>\n",
       "      <th>3</th>\n",
       "      <td>1</td>\n",
       "      <td>0</td>\n",
       "      <td>0</td>\n",
       "      <td>0</td>\n",
       "      <td>0.182726</td>\n",
       "      <td>0.854936</td>\n",
       "      <td>0.405184</td>\n",
       "      <td>-0.643782</td>\n",
       "      <td>0</td>\n",
       "      <td>0.880469</td>\n",
       "      <td>-0.589690</td>\n",
       "    </tr>\n",
       "    <tr>\n",
       "      <th>4</th>\n",
       "      <td>0</td>\n",
       "      <td>0</td>\n",
       "      <td>0</td>\n",
       "      <td>1</td>\n",
       "      <td>0.182726</td>\n",
       "      <td>1.005844</td>\n",
       "      <td>-0.536062</td>\n",
       "      <td>0.767431</td>\n",
       "      <td>0</td>\n",
       "      <td>0.880469</td>\n",
       "      <td>0.268487</td>\n",
       "    </tr>\n",
       "    <tr>\n",
       "      <th>...</th>\n",
       "      <td>...</td>\n",
       "      <td>...</td>\n",
       "      <td>...</td>\n",
       "      <td>...</td>\n",
       "      <td>...</td>\n",
       "      <td>...</td>\n",
       "      <td>...</td>\n",
       "      <td>...</td>\n",
       "      <td>...</td>\n",
       "      <td>...</td>\n",
       "      <td>...</td>\n",
       "    </tr>\n",
       "    <tr>\n",
       "      <th>695</th>\n",
       "      <td>1</td>\n",
       "      <td>0</td>\n",
       "      <td>0</td>\n",
       "      <td>0</td>\n",
       "      <td>-0.388293</td>\n",
       "      <td>-0.654143</td>\n",
       "      <td>0.562059</td>\n",
       "      <td>-1.114186</td>\n",
       "      <td>1</td>\n",
       "      <td>0.880469</td>\n",
       "      <td>-0.589690</td>\n",
       "    </tr>\n",
       "    <tr>\n",
       "      <th>696</th>\n",
       "      <td>1</td>\n",
       "      <td>0</td>\n",
       "      <td>0</td>\n",
       "      <td>0</td>\n",
       "      <td>-0.388293</td>\n",
       "      <td>0.040034</td>\n",
       "      <td>-1.320435</td>\n",
       "      <td>-0.643782</td>\n",
       "      <td>0</td>\n",
       "      <td>-0.019280</td>\n",
       "      <td>1.126663</td>\n",
       "    </tr>\n",
       "    <tr>\n",
       "      <th>697</th>\n",
       "      <td>1</td>\n",
       "      <td>0</td>\n",
       "      <td>0</td>\n",
       "      <td>0</td>\n",
       "      <td>-0.388293</td>\n",
       "      <td>1.624567</td>\n",
       "      <td>-1.320435</td>\n",
       "      <td>-0.408580</td>\n",
       "      <td>1</td>\n",
       "      <td>-0.919030</td>\n",
       "      <td>-0.589690</td>\n",
       "    </tr>\n",
       "    <tr>\n",
       "      <th>698</th>\n",
       "      <td>0</td>\n",
       "      <td>0</td>\n",
       "      <td>0</td>\n",
       "      <td>1</td>\n",
       "      <td>-0.388293</td>\n",
       "      <td>0.190942</td>\n",
       "      <td>-0.692937</td>\n",
       "      <td>-0.408580</td>\n",
       "      <td>1</td>\n",
       "      <td>-0.919030</td>\n",
       "      <td>-0.589690</td>\n",
       "    </tr>\n",
       "    <tr>\n",
       "      <th>699</th>\n",
       "      <td>0</td>\n",
       "      <td>0</td>\n",
       "      <td>0</td>\n",
       "      <td>1</td>\n",
       "      <td>-0.388293</td>\n",
       "      <td>1.036026</td>\n",
       "      <td>0.562059</td>\n",
       "      <td>-0.408580</td>\n",
       "      <td>0</td>\n",
       "      <td>-0.019280</td>\n",
       "      <td>0.268487</td>\n",
       "    </tr>\n",
       "  </tbody>\n",
       "</table>\n",
       "<p>700 rows × 11 columns</p>\n",
       "</div>"
      ],
      "text/plain": [
       "     Reason_1  Reason_2  Reason_3  Reason_4  Month_value  \\\n",
       "0           0         0         0         1     0.182726   \n",
       "1           0         0         0         0     0.182726   \n",
       "2           0         0         0         1     0.182726   \n",
       "3           1         0         0         0     0.182726   \n",
       "4           0         0         0         1     0.182726   \n",
       "..        ...       ...       ...       ...          ...   \n",
       "695         1         0         0         0    -0.388293   \n",
       "696         1         0         0         0    -0.388293   \n",
       "697         1         0         0         0    -0.388293   \n",
       "698         0         0         0         1    -0.388293   \n",
       "699         0         0         0         1    -0.388293   \n",
       "\n",
       "     Transportation Expense       Age  Body Mass Index  Education  Children  \\\n",
       "0                  1.005844 -0.536062         0.767431          0  0.880469   \n",
       "1                 -1.574681  2.130803         1.002633          0 -0.019280   \n",
       "2                 -0.654143  0.248310         1.002633          0 -0.919030   \n",
       "3                  0.854936  0.405184        -0.643782          0  0.880469   \n",
       "4                  1.005844 -0.536062         0.767431          0  0.880469   \n",
       "..                      ...       ...              ...        ...       ...   \n",
       "695               -0.654143  0.562059        -1.114186          1  0.880469   \n",
       "696                0.040034 -1.320435        -0.643782          0 -0.019280   \n",
       "697                1.624567 -1.320435        -0.408580          1 -0.919030   \n",
       "698                0.190942 -0.692937        -0.408580          1 -0.919030   \n",
       "699                1.036026  0.562059        -0.408580          0 -0.019280   \n",
       "\n",
       "         Pets  \n",
       "0    0.268487  \n",
       "1   -0.589690  \n",
       "2   -0.589690  \n",
       "3   -0.589690  \n",
       "4    0.268487  \n",
       "..        ...  \n",
       "695 -0.589690  \n",
       "696  1.126663  \n",
       "697 -0.589690  \n",
       "698 -0.589690  \n",
       "699  0.268487  \n",
       "\n",
       "[700 rows x 11 columns]"
      ]
     },
     "execution_count": 415,
     "metadata": {},
     "output_type": "execute_result"
    }
   ],
   "source": [
    "scaled_inputs=absent_scaler.transform(unscaled_inputs)\n",
    "scaled_inputs"
   ]
  },
  {
   "cell_type": "markdown",
   "metadata": {
    "id": "gufCN043XdMq"
   },
   "source": [
    "whenever we get new data we transform\n",
    "\n",
    "```\n",
    "new_raw_data=pd.read_csv(\"new_data.csv\")\n",
    "new_scaled_data=absent_scaler.transform(new_raw_data)\n",
    "```\n",
    "\n",
    "\n"
   ]
  },
  {
   "cell_type": "code",
   "execution_count": 417,
   "metadata": {
    "colab": {
     "base_uri": "https://localhost:8080/"
    },
    "id": "MCTkI4r7X4Tw",
    "outputId": "33f6b815-ca08-4870-de64-8c5abeb11272"
   },
   "outputs": [
    {
     "data": {
      "text/plain": [
       "(700, 11)"
      ]
     },
     "execution_count": 417,
     "metadata": {},
     "output_type": "execute_result"
    }
   ],
   "source": [
    "scaled_inputs.shape"
   ]
  },
  {
   "cell_type": "markdown",
   "metadata": {
    "id": "HkJWxvoqYd4I"
   },
   "source": [
    "### Train test split"
   ]
  },
  {
   "cell_type": "code",
   "execution_count": 419,
   "metadata": {
    "id": "Zak0C9aOYY0_"
   },
   "outputs": [],
   "source": [
    "from sklearn.model_selection import train_test_split"
   ]
  },
  {
   "cell_type": "code",
   "execution_count": 420,
   "metadata": {
    "colab": {
     "base_uri": "https://localhost:8080/"
    },
    "id": "rDDB8-kFYvak",
    "outputId": "350bceef-cda5-4a91-ac51-39aa7942d90a"
   },
   "outputs": [
    {
     "data": {
      "text/plain": [
       "[     Reason_1  Reason_2  Reason_3  Reason_4  Month_value  \\\n",
       " 51          0         0         0         0     0.753746   \n",
       " 513         0         0         0         1     1.039256   \n",
       " 171         0         0         0         1    -0.959313   \n",
       " 517         0         0         0         1     1.039256   \n",
       " 275         0         0         0         1     0.753746   \n",
       " ..        ...       ...       ...       ...          ...   \n",
       " 579         0         0         1         0    -1.530333   \n",
       " 254         0         0         0         1     0.468236   \n",
       " 656         0         0         1         0    -0.673803   \n",
       " 30          0         0         1         0     0.468236   \n",
       " 335         0         1         0         0     1.324766   \n",
       " \n",
       "      Transportation Expense       Age  Body Mass Index  Education  Children  \\\n",
       " 51                 0.040034 -1.320435        -0.643782          0 -0.019280   \n",
       " 513                1.005844  1.973929         2.178644          0 -0.919030   \n",
       " 171                0.040034 -1.320435        -0.643782          0 -0.019280   \n",
       " 517                2.213108 -0.849811        -0.408580          0  1.780219   \n",
       " 275                1.036026  0.562059        -0.408580          0 -0.019280   \n",
       " ..                      ...       ...              ...        ...       ...   \n",
       " 579               -1.016322 -0.379188        -0.408580          0  0.880469   \n",
       " 254                1.005844 -0.536062         0.767431          0  0.880469   \n",
       " 656                2.092381 -1.320435         0.061825          0 -0.019280   \n",
       " 30                -0.654143  0.248310         1.002633          0 -0.919030   \n",
       " 335                0.568211 -0.065439        -0.878984          0  2.679969   \n",
       " \n",
       "          Pets  \n",
       " 51   1.126663  \n",
       " 513  1.126663  \n",
       " 171  1.126663  \n",
       " 517 -0.589690  \n",
       " 275  0.268487  \n",
       " ..        ...  \n",
       " 579 -0.589690  \n",
       " 254  0.268487  \n",
       " 656  2.843016  \n",
       " 30  -0.589690  \n",
       " 335 -0.589690  \n",
       " \n",
       " [525 rows x 11 columns],\n",
       "      Reason_1  Reason_2  Reason_3  Reason_4  Month_value  \\\n",
       " 649         0         0         0         1    -0.959313   \n",
       " 282         0         0         0         1     0.753746   \n",
       " 270         1         0         0         0     0.753746   \n",
       " 42          0         0         0         1     0.753746   \n",
       " 205         0         0         0         1    -0.388293   \n",
       " ..        ...       ...       ...       ...          ...   \n",
       " 532         0         0         1         0     1.324766   \n",
       " 484         0         0         0         1     0.468236   \n",
       " 436         1         0         0         0    -0.388293   \n",
       " 319         1         0         0         0     1.324766   \n",
       " 604         0         0         0         1    -1.244823   \n",
       " \n",
       "      Transportation Expense       Age  Body Mass Index  Education  Children  \\\n",
       " 649               -0.654143  0.248310         1.002633          0 -0.919030   \n",
       " 282                0.568211 -0.065439        -0.878984          0  2.679969   \n",
       " 270               -0.654143  0.248310         1.002633          0 -0.919030   \n",
       " 42                -0.654143  0.248310         1.002633          0 -0.919030   \n",
       " 205               -1.016322 -0.379188        -0.408580          0  0.880469   \n",
       " ..                      ...       ...              ...        ...       ...   \n",
       " 532               -0.654143  0.248310         1.002633          0 -0.919030   \n",
       " 484                1.005844 -0.536062         0.767431          0  0.880469   \n",
       " 436                1.624567 -1.320435        -0.408580          1 -0.919030   \n",
       " 319               -0.654143  0.248310         1.002633          0 -0.919030   \n",
       " 604               -0.654143 -1.006686        -1.819793          1 -0.919030   \n",
       " \n",
       "          Pets  \n",
       " 649 -0.589690  \n",
       " 282 -0.589690  \n",
       " 270 -0.589690  \n",
       " 42  -0.589690  \n",
       " 205 -0.589690  \n",
       " ..        ...  \n",
       " 532 -0.589690  \n",
       " 484  0.268487  \n",
       " 436 -0.589690  \n",
       " 319 -0.589690  \n",
       " 604 -0.589690  \n",
       " \n",
       " [175 rows x 11 columns],\n",
       " array([0, 0, 0, 0, 0, 1, 1, 0, 0, 1, 1, 0, 0, 0, 1, 0, 0, 1, 0, 1, 0, 0,\n",
       "        1, 0, 0, 0, 1, 0, 0, 1, 1, 1, 1, 0, 0, 1, 0, 0, 0, 1, 0, 1, 1, 0,\n",
       "        0, 1, 1, 0, 1, 1, 0, 1, 1, 1, 1, 1, 1, 1, 1, 1, 0, 1, 0, 1, 1, 0,\n",
       "        0, 0, 0, 1, 1, 1, 0, 0, 0, 1, 1, 0, 1, 1, 1, 1, 1, 1, 0, 0, 0, 0,\n",
       "        1, 0, 1, 1, 1, 0, 0, 0, 0, 1, 1, 1, 0, 1, 0, 0, 0, 0, 1, 1, 0, 1,\n",
       "        0, 0, 0, 1, 0, 1, 1, 1, 0, 1, 0, 0, 0, 1, 0, 0, 1, 1, 1, 0, 0, 0,\n",
       "        0, 1, 0, 1, 1, 1, 0, 1, 0, 0, 1, 0, 1, 0, 0, 0, 0, 0, 0, 1, 0, 1,\n",
       "        1, 1, 1, 0, 1, 1, 0, 1, 0, 0, 0, 0, 0, 0, 0, 1, 0, 0, 0, 0, 0, 1,\n",
       "        0, 0, 1, 1, 0, 0, 0, 1, 1, 1, 0, 0, 1, 1, 1, 0, 0, 1, 1, 0, 0, 0,\n",
       "        0, 0, 1, 0, 1, 1, 0, 0, 0, 0, 1, 0, 1, 1, 0, 1, 0, 1, 0, 1, 1, 0,\n",
       "        1, 0, 0, 1, 1, 1, 1, 0, 0, 0, 0, 1, 1, 0, 1, 1, 1, 0, 0, 1, 0, 0,\n",
       "        1, 0, 1, 0, 1, 0, 0, 0, 0, 1, 0, 1, 0, 0, 1, 0, 0, 1, 0, 1, 0, 1,\n",
       "        0, 1, 0, 0, 0, 1, 0, 1, 1, 0, 1, 1, 1, 1, 0, 0, 0, 0, 1, 0, 0, 1,\n",
       "        1, 1, 1, 1, 0, 0, 0, 0, 0, 0, 0, 1, 1, 0, 0, 1, 1, 0, 0, 1, 0, 0,\n",
       "        0, 0, 0, 1, 0, 1, 1, 1, 1, 0, 0, 0, 0, 1, 1, 1, 1, 1, 1, 1, 0, 1,\n",
       "        1, 1, 1, 1, 0, 1, 1, 0, 1, 1, 0, 0, 0, 0, 0, 0, 0, 0, 1, 1, 1, 0,\n",
       "        1, 1, 1, 0, 0, 0, 0, 0, 0, 0, 0, 1, 0, 0, 0, 0, 0, 1, 1, 1, 1, 0,\n",
       "        1, 0, 0, 0, 1, 0, 0, 1, 0, 0, 0, 1, 1, 1, 1, 0, 1, 0, 1, 1, 1, 0,\n",
       "        0, 1, 0, 1, 0, 1, 0, 1, 0, 1, 1, 1, 0, 0, 1, 1, 0, 0, 1, 0, 1, 0,\n",
       "        0, 0, 0, 0, 0, 0, 0, 0, 0, 0, 1, 1, 0, 1, 0, 0, 1, 1, 0, 1, 1, 0,\n",
       "        0, 0, 0, 0, 1, 1, 1, 1, 1, 0, 1, 1, 1, 0, 1, 0, 1, 1, 1, 1, 1, 0,\n",
       "        1, 0, 1, 0, 1, 1, 0, 1, 1, 1, 1, 0, 0, 0, 0, 1, 0, 0, 1, 0, 0, 1,\n",
       "        0, 0, 0, 0, 0, 1, 0, 1, 0, 0, 0, 1, 0, 1, 1, 1, 0, 1, 1, 1, 1, 1,\n",
       "        0, 1, 1, 0, 0, 0, 0, 0, 1, 1, 0, 0, 1, 0, 1, 0, 1, 1, 1]),\n",
       " array([0, 1, 1, 1, 0, 0, 0, 1, 0, 0, 1, 1, 1, 1, 0, 0, 0, 1, 0, 1, 1, 0,\n",
       "        0, 0, 0, 0, 0, 1, 0, 0, 1, 1, 0, 1, 0, 1, 0, 1, 0, 0, 1, 1, 0, 0,\n",
       "        0, 0, 0, 0, 1, 0, 0, 0, 0, 1, 0, 0, 0, 0, 0, 1, 1, 1, 0, 0, 1, 1,\n",
       "        0, 0, 1, 0, 1, 1, 0, 1, 1, 0, 0, 0, 0, 1, 0, 1, 0, 0, 0, 1, 0, 1,\n",
       "        0, 0, 0, 1, 0, 1, 1, 0, 0, 1, 0, 0, 0, 0, 1, 1, 1, 1, 0, 1, 1, 0,\n",
       "        0, 0, 0, 1, 1, 1, 0, 1, 1, 1, 0, 0, 0, 0, 0, 1, 0, 0, 0, 0, 1, 1,\n",
       "        0, 1, 1, 1, 0, 1, 0, 1, 1, 0, 0, 0, 0, 1, 0, 0, 0, 0, 0, 0, 1, 1,\n",
       "        0, 1, 1, 1, 1, 0, 0, 1, 0, 1, 1, 0, 0, 0, 0, 0, 0, 1, 1, 1, 0])]"
      ]
     },
     "execution_count": 420,
     "metadata": {},
     "output_type": "execute_result"
    }
   ],
   "source": [
    "train_test_split(scaled_inputs,targets)"
   ]
  },
  {
   "cell_type": "code",
   "execution_count": 421,
   "metadata": {
    "id": "-pxTz5n7ZKeJ"
   },
   "outputs": [],
   "source": [
    "x_train,x_test,y_train,y_test=train_test_split(scaled_inputs,targets,train_size=0.9,random_state=20)"
   ]
  },
  {
   "cell_type": "code",
   "execution_count": 422,
   "metadata": {
    "colab": {
     "base_uri": "https://localhost:8080/"
    },
    "id": "vt5IMRF7ZwGW",
    "outputId": "61792d90-a5c4-4cbe-d83c-b9208bea2101"
   },
   "outputs": [
    {
     "name": "stdout",
     "output_type": "stream",
     "text": [
      "(630, 11) (70, 11)\n"
     ]
    }
   ],
   "source": [
    "print(x_train.shape,x_test.shape)"
   ]
  },
  {
   "cell_type": "code",
   "execution_count": 423,
   "metadata": {
    "colab": {
     "base_uri": "https://localhost:8080/"
    },
    "id": "fYdEdGYbZ5-Q",
    "outputId": "9700bfcd-281e-40da-937a-6b9515b980a0"
   },
   "outputs": [
    {
     "name": "stdout",
     "output_type": "stream",
     "text": [
      "(630,) (70,)\n"
     ]
    }
   ],
   "source": [
    "print(y_train.shape,y_test.shape)"
   ]
  },
  {
   "cell_type": "markdown",
   "metadata": {
    "id": "ng0G6KCxaC7B"
   },
   "source": [
    "##Logistic Regression\n"
   ]
  },
  {
   "cell_type": "code",
   "execution_count": 425,
   "metadata": {
    "id": "GobxWWyhZ6x7"
   },
   "outputs": [],
   "source": [
    "from sklearn.linear_model import LogisticRegression\n",
    "from sklearn import metrics"
   ]
  },
  {
   "cell_type": "code",
   "execution_count": 426,
   "metadata": {
    "id": "Qj79KOkXaQX8"
   },
   "outputs": [],
   "source": [
    "reg=LogisticRegression()"
   ]
  },
  {
   "cell_type": "code",
   "execution_count": 427,
   "metadata": {
    "colab": {
     "base_uri": "https://localhost:8080/",
     "height": 80
    },
    "id": "WU8zalqUbGSj",
    "outputId": "c477d8fc-8b78-4e54-be8a-466ca66b5669"
   },
   "outputs": [
    {
     "data": {
      "text/html": [
       "<style>#sk-container-id-9 {\n",
       "  /* Definition of color scheme common for light and dark mode */\n",
       "  --sklearn-color-text: black;\n",
       "  --sklearn-color-line: gray;\n",
       "  /* Definition of color scheme for unfitted estimators */\n",
       "  --sklearn-color-unfitted-level-0: #fff5e6;\n",
       "  --sklearn-color-unfitted-level-1: #f6e4d2;\n",
       "  --sklearn-color-unfitted-level-2: #ffe0b3;\n",
       "  --sklearn-color-unfitted-level-3: chocolate;\n",
       "  /* Definition of color scheme for fitted estimators */\n",
       "  --sklearn-color-fitted-level-0: #f0f8ff;\n",
       "  --sklearn-color-fitted-level-1: #d4ebff;\n",
       "  --sklearn-color-fitted-level-2: #b3dbfd;\n",
       "  --sklearn-color-fitted-level-3: cornflowerblue;\n",
       "\n",
       "  /* Specific color for light theme */\n",
       "  --sklearn-color-text-on-default-background: var(--sg-text-color, var(--theme-code-foreground, var(--jp-content-font-color1, black)));\n",
       "  --sklearn-color-background: var(--sg-background-color, var(--theme-background, var(--jp-layout-color0, white)));\n",
       "  --sklearn-color-border-box: var(--sg-text-color, var(--theme-code-foreground, var(--jp-content-font-color1, black)));\n",
       "  --sklearn-color-icon: #696969;\n",
       "\n",
       "  @media (prefers-color-scheme: dark) {\n",
       "    /* Redefinition of color scheme for dark theme */\n",
       "    --sklearn-color-text-on-default-background: var(--sg-text-color, var(--theme-code-foreground, var(--jp-content-font-color1, white)));\n",
       "    --sklearn-color-background: var(--sg-background-color, var(--theme-background, var(--jp-layout-color0, #111)));\n",
       "    --sklearn-color-border-box: var(--sg-text-color, var(--theme-code-foreground, var(--jp-content-font-color1, white)));\n",
       "    --sklearn-color-icon: #878787;\n",
       "  }\n",
       "}\n",
       "\n",
       "#sk-container-id-9 {\n",
       "  color: var(--sklearn-color-text);\n",
       "}\n",
       "\n",
       "#sk-container-id-9 pre {\n",
       "  padding: 0;\n",
       "}\n",
       "\n",
       "#sk-container-id-9 input.sk-hidden--visually {\n",
       "  border: 0;\n",
       "  clip: rect(1px 1px 1px 1px);\n",
       "  clip: rect(1px, 1px, 1px, 1px);\n",
       "  height: 1px;\n",
       "  margin: -1px;\n",
       "  overflow: hidden;\n",
       "  padding: 0;\n",
       "  position: absolute;\n",
       "  width: 1px;\n",
       "}\n",
       "\n",
       "#sk-container-id-9 div.sk-dashed-wrapped {\n",
       "  border: 1px dashed var(--sklearn-color-line);\n",
       "  margin: 0 0.4em 0.5em 0.4em;\n",
       "  box-sizing: border-box;\n",
       "  padding-bottom: 0.4em;\n",
       "  background-color: var(--sklearn-color-background);\n",
       "}\n",
       "\n",
       "#sk-container-id-9 div.sk-container {\n",
       "  /* jupyter's `normalize.less` sets `[hidden] { display: none; }`\n",
       "     but bootstrap.min.css set `[hidden] { display: none !important; }`\n",
       "     so we also need the `!important` here to be able to override the\n",
       "     default hidden behavior on the sphinx rendered scikit-learn.org.\n",
       "     See: https://github.com/scikit-learn/scikit-learn/issues/21755 */\n",
       "  display: inline-block !important;\n",
       "  position: relative;\n",
       "}\n",
       "\n",
       "#sk-container-id-9 div.sk-text-repr-fallback {\n",
       "  display: none;\n",
       "}\n",
       "\n",
       "div.sk-parallel-item,\n",
       "div.sk-serial,\n",
       "div.sk-item {\n",
       "  /* draw centered vertical line to link estimators */\n",
       "  background-image: linear-gradient(var(--sklearn-color-text-on-default-background), var(--sklearn-color-text-on-default-background));\n",
       "  background-size: 2px 100%;\n",
       "  background-repeat: no-repeat;\n",
       "  background-position: center center;\n",
       "}\n",
       "\n",
       "/* Parallel-specific style estimator block */\n",
       "\n",
       "#sk-container-id-9 div.sk-parallel-item::after {\n",
       "  content: \"\";\n",
       "  width: 100%;\n",
       "  border-bottom: 2px solid var(--sklearn-color-text-on-default-background);\n",
       "  flex-grow: 1;\n",
       "}\n",
       "\n",
       "#sk-container-id-9 div.sk-parallel {\n",
       "  display: flex;\n",
       "  align-items: stretch;\n",
       "  justify-content: center;\n",
       "  background-color: var(--sklearn-color-background);\n",
       "  position: relative;\n",
       "}\n",
       "\n",
       "#sk-container-id-9 div.sk-parallel-item {\n",
       "  display: flex;\n",
       "  flex-direction: column;\n",
       "}\n",
       "\n",
       "#sk-container-id-9 div.sk-parallel-item:first-child::after {\n",
       "  align-self: flex-end;\n",
       "  width: 50%;\n",
       "}\n",
       "\n",
       "#sk-container-id-9 div.sk-parallel-item:last-child::after {\n",
       "  align-self: flex-start;\n",
       "  width: 50%;\n",
       "}\n",
       "\n",
       "#sk-container-id-9 div.sk-parallel-item:only-child::after {\n",
       "  width: 0;\n",
       "}\n",
       "\n",
       "/* Serial-specific style estimator block */\n",
       "\n",
       "#sk-container-id-9 div.sk-serial {\n",
       "  display: flex;\n",
       "  flex-direction: column;\n",
       "  align-items: center;\n",
       "  background-color: var(--sklearn-color-background);\n",
       "  padding-right: 1em;\n",
       "  padding-left: 1em;\n",
       "}\n",
       "\n",
       "\n",
       "/* Toggleable style: style used for estimator/Pipeline/ColumnTransformer box that is\n",
       "clickable and can be expanded/collapsed.\n",
       "- Pipeline and ColumnTransformer use this feature and define the default style\n",
       "- Estimators will overwrite some part of the style using the `sk-estimator` class\n",
       "*/\n",
       "\n",
       "/* Pipeline and ColumnTransformer style (default) */\n",
       "\n",
       "#sk-container-id-9 div.sk-toggleable {\n",
       "  /* Default theme specific background. It is overwritten whether we have a\n",
       "  specific estimator or a Pipeline/ColumnTransformer */\n",
       "  background-color: var(--sklearn-color-background);\n",
       "}\n",
       "\n",
       "/* Toggleable label */\n",
       "#sk-container-id-9 label.sk-toggleable__label {\n",
       "  cursor: pointer;\n",
       "  display: block;\n",
       "  width: 100%;\n",
       "  margin-bottom: 0;\n",
       "  padding: 0.5em;\n",
       "  box-sizing: border-box;\n",
       "  text-align: center;\n",
       "}\n",
       "\n",
       "#sk-container-id-9 label.sk-toggleable__label-arrow:before {\n",
       "  /* Arrow on the left of the label */\n",
       "  content: \"▸\";\n",
       "  float: left;\n",
       "  margin-right: 0.25em;\n",
       "  color: var(--sklearn-color-icon);\n",
       "}\n",
       "\n",
       "#sk-container-id-9 label.sk-toggleable__label-arrow:hover:before {\n",
       "  color: var(--sklearn-color-text);\n",
       "}\n",
       "\n",
       "/* Toggleable content - dropdown */\n",
       "\n",
       "#sk-container-id-9 div.sk-toggleable__content {\n",
       "  max-height: 0;\n",
       "  max-width: 0;\n",
       "  overflow: hidden;\n",
       "  text-align: left;\n",
       "  /* unfitted */\n",
       "  background-color: var(--sklearn-color-unfitted-level-0);\n",
       "}\n",
       "\n",
       "#sk-container-id-9 div.sk-toggleable__content.fitted {\n",
       "  /* fitted */\n",
       "  background-color: var(--sklearn-color-fitted-level-0);\n",
       "}\n",
       "\n",
       "#sk-container-id-9 div.sk-toggleable__content pre {\n",
       "  margin: 0.2em;\n",
       "  border-radius: 0.25em;\n",
       "  color: var(--sklearn-color-text);\n",
       "  /* unfitted */\n",
       "  background-color: var(--sklearn-color-unfitted-level-0);\n",
       "}\n",
       "\n",
       "#sk-container-id-9 div.sk-toggleable__content.fitted pre {\n",
       "  /* unfitted */\n",
       "  background-color: var(--sklearn-color-fitted-level-0);\n",
       "}\n",
       "\n",
       "#sk-container-id-9 input.sk-toggleable__control:checked~div.sk-toggleable__content {\n",
       "  /* Expand drop-down */\n",
       "  max-height: 200px;\n",
       "  max-width: 100%;\n",
       "  overflow: auto;\n",
       "}\n",
       "\n",
       "#sk-container-id-9 input.sk-toggleable__control:checked~label.sk-toggleable__label-arrow:before {\n",
       "  content: \"▾\";\n",
       "}\n",
       "\n",
       "/* Pipeline/ColumnTransformer-specific style */\n",
       "\n",
       "#sk-container-id-9 div.sk-label input.sk-toggleable__control:checked~label.sk-toggleable__label {\n",
       "  color: var(--sklearn-color-text);\n",
       "  background-color: var(--sklearn-color-unfitted-level-2);\n",
       "}\n",
       "\n",
       "#sk-container-id-9 div.sk-label.fitted input.sk-toggleable__control:checked~label.sk-toggleable__label {\n",
       "  background-color: var(--sklearn-color-fitted-level-2);\n",
       "}\n",
       "\n",
       "/* Estimator-specific style */\n",
       "\n",
       "/* Colorize estimator box */\n",
       "#sk-container-id-9 div.sk-estimator input.sk-toggleable__control:checked~label.sk-toggleable__label {\n",
       "  /* unfitted */\n",
       "  background-color: var(--sklearn-color-unfitted-level-2);\n",
       "}\n",
       "\n",
       "#sk-container-id-9 div.sk-estimator.fitted input.sk-toggleable__control:checked~label.sk-toggleable__label {\n",
       "  /* fitted */\n",
       "  background-color: var(--sklearn-color-fitted-level-2);\n",
       "}\n",
       "\n",
       "#sk-container-id-9 div.sk-label label.sk-toggleable__label,\n",
       "#sk-container-id-9 div.sk-label label {\n",
       "  /* The background is the default theme color */\n",
       "  color: var(--sklearn-color-text-on-default-background);\n",
       "}\n",
       "\n",
       "/* On hover, darken the color of the background */\n",
       "#sk-container-id-9 div.sk-label:hover label.sk-toggleable__label {\n",
       "  color: var(--sklearn-color-text);\n",
       "  background-color: var(--sklearn-color-unfitted-level-2);\n",
       "}\n",
       "\n",
       "/* Label box, darken color on hover, fitted */\n",
       "#sk-container-id-9 div.sk-label.fitted:hover label.sk-toggleable__label.fitted {\n",
       "  color: var(--sklearn-color-text);\n",
       "  background-color: var(--sklearn-color-fitted-level-2);\n",
       "}\n",
       "\n",
       "/* Estimator label */\n",
       "\n",
       "#sk-container-id-9 div.sk-label label {\n",
       "  font-family: monospace;\n",
       "  font-weight: bold;\n",
       "  display: inline-block;\n",
       "  line-height: 1.2em;\n",
       "}\n",
       "\n",
       "#sk-container-id-9 div.sk-label-container {\n",
       "  text-align: center;\n",
       "}\n",
       "\n",
       "/* Estimator-specific */\n",
       "#sk-container-id-9 div.sk-estimator {\n",
       "  font-family: monospace;\n",
       "  border: 1px dotted var(--sklearn-color-border-box);\n",
       "  border-radius: 0.25em;\n",
       "  box-sizing: border-box;\n",
       "  margin-bottom: 0.5em;\n",
       "  /* unfitted */\n",
       "  background-color: var(--sklearn-color-unfitted-level-0);\n",
       "}\n",
       "\n",
       "#sk-container-id-9 div.sk-estimator.fitted {\n",
       "  /* fitted */\n",
       "  background-color: var(--sklearn-color-fitted-level-0);\n",
       "}\n",
       "\n",
       "/* on hover */\n",
       "#sk-container-id-9 div.sk-estimator:hover {\n",
       "  /* unfitted */\n",
       "  background-color: var(--sklearn-color-unfitted-level-2);\n",
       "}\n",
       "\n",
       "#sk-container-id-9 div.sk-estimator.fitted:hover {\n",
       "  /* fitted */\n",
       "  background-color: var(--sklearn-color-fitted-level-2);\n",
       "}\n",
       "\n",
       "/* Specification for estimator info (e.g. \"i\" and \"?\") */\n",
       "\n",
       "/* Common style for \"i\" and \"?\" */\n",
       "\n",
       ".sk-estimator-doc-link,\n",
       "a:link.sk-estimator-doc-link,\n",
       "a:visited.sk-estimator-doc-link {\n",
       "  float: right;\n",
       "  font-size: smaller;\n",
       "  line-height: 1em;\n",
       "  font-family: monospace;\n",
       "  background-color: var(--sklearn-color-background);\n",
       "  border-radius: 1em;\n",
       "  height: 1em;\n",
       "  width: 1em;\n",
       "  text-decoration: none !important;\n",
       "  margin-left: 1ex;\n",
       "  /* unfitted */\n",
       "  border: var(--sklearn-color-unfitted-level-1) 1pt solid;\n",
       "  color: var(--sklearn-color-unfitted-level-1);\n",
       "}\n",
       "\n",
       ".sk-estimator-doc-link.fitted,\n",
       "a:link.sk-estimator-doc-link.fitted,\n",
       "a:visited.sk-estimator-doc-link.fitted {\n",
       "  /* fitted */\n",
       "  border: var(--sklearn-color-fitted-level-1) 1pt solid;\n",
       "  color: var(--sklearn-color-fitted-level-1);\n",
       "}\n",
       "\n",
       "/* On hover */\n",
       "div.sk-estimator:hover .sk-estimator-doc-link:hover,\n",
       ".sk-estimator-doc-link:hover,\n",
       "div.sk-label-container:hover .sk-estimator-doc-link:hover,\n",
       ".sk-estimator-doc-link:hover {\n",
       "  /* unfitted */\n",
       "  background-color: var(--sklearn-color-unfitted-level-3);\n",
       "  color: var(--sklearn-color-background);\n",
       "  text-decoration: none;\n",
       "}\n",
       "\n",
       "div.sk-estimator.fitted:hover .sk-estimator-doc-link.fitted:hover,\n",
       ".sk-estimator-doc-link.fitted:hover,\n",
       "div.sk-label-container:hover .sk-estimator-doc-link.fitted:hover,\n",
       ".sk-estimator-doc-link.fitted:hover {\n",
       "  /* fitted */\n",
       "  background-color: var(--sklearn-color-fitted-level-3);\n",
       "  color: var(--sklearn-color-background);\n",
       "  text-decoration: none;\n",
       "}\n",
       "\n",
       "/* Span, style for the box shown on hovering the info icon */\n",
       ".sk-estimator-doc-link span {\n",
       "  display: none;\n",
       "  z-index: 9999;\n",
       "  position: relative;\n",
       "  font-weight: normal;\n",
       "  right: .2ex;\n",
       "  padding: .5ex;\n",
       "  margin: .5ex;\n",
       "  width: min-content;\n",
       "  min-width: 20ex;\n",
       "  max-width: 50ex;\n",
       "  color: var(--sklearn-color-text);\n",
       "  box-shadow: 2pt 2pt 4pt #999;\n",
       "  /* unfitted */\n",
       "  background: var(--sklearn-color-unfitted-level-0);\n",
       "  border: .5pt solid var(--sklearn-color-unfitted-level-3);\n",
       "}\n",
       "\n",
       ".sk-estimator-doc-link.fitted span {\n",
       "  /* fitted */\n",
       "  background: var(--sklearn-color-fitted-level-0);\n",
       "  border: var(--sklearn-color-fitted-level-3);\n",
       "}\n",
       "\n",
       ".sk-estimator-doc-link:hover span {\n",
       "  display: block;\n",
       "}\n",
       "\n",
       "/* \"?\"-specific style due to the `<a>` HTML tag */\n",
       "\n",
       "#sk-container-id-9 a.estimator_doc_link {\n",
       "  float: right;\n",
       "  font-size: 1rem;\n",
       "  line-height: 1em;\n",
       "  font-family: monospace;\n",
       "  background-color: var(--sklearn-color-background);\n",
       "  border-radius: 1rem;\n",
       "  height: 1rem;\n",
       "  width: 1rem;\n",
       "  text-decoration: none;\n",
       "  /* unfitted */\n",
       "  color: var(--sklearn-color-unfitted-level-1);\n",
       "  border: var(--sklearn-color-unfitted-level-1) 1pt solid;\n",
       "}\n",
       "\n",
       "#sk-container-id-9 a.estimator_doc_link.fitted {\n",
       "  /* fitted */\n",
       "  border: var(--sklearn-color-fitted-level-1) 1pt solid;\n",
       "  color: var(--sklearn-color-fitted-level-1);\n",
       "}\n",
       "\n",
       "/* On hover */\n",
       "#sk-container-id-9 a.estimator_doc_link:hover {\n",
       "  /* unfitted */\n",
       "  background-color: var(--sklearn-color-unfitted-level-3);\n",
       "  color: var(--sklearn-color-background);\n",
       "  text-decoration: none;\n",
       "}\n",
       "\n",
       "#sk-container-id-9 a.estimator_doc_link.fitted:hover {\n",
       "  /* fitted */\n",
       "  background-color: var(--sklearn-color-fitted-level-3);\n",
       "}\n",
       "</style><div id=\"sk-container-id-9\" class=\"sk-top-container\"><div class=\"sk-text-repr-fallback\"><pre>LogisticRegression()</pre><b>In a Jupyter environment, please rerun this cell to show the HTML representation or trust the notebook. <br />On GitHub, the HTML representation is unable to render, please try loading this page with nbviewer.org.</b></div><div class=\"sk-container\" hidden><div class=\"sk-item\"><div class=\"sk-estimator fitted sk-toggleable\"><input class=\"sk-toggleable__control sk-hidden--visually\" id=\"sk-estimator-id-9\" type=\"checkbox\" checked><label for=\"sk-estimator-id-9\" class=\"sk-toggleable__label fitted sk-toggleable__label-arrow fitted\">&nbsp;&nbsp;LogisticRegression<a class=\"sk-estimator-doc-link fitted\" rel=\"noreferrer\" target=\"_blank\" href=\"https://scikit-learn.org/1.5/modules/generated/sklearn.linear_model.LogisticRegression.html\">?<span>Documentation for LogisticRegression</span></a><span class=\"sk-estimator-doc-link fitted\">i<span>Fitted</span></span></label><div class=\"sk-toggleable__content fitted\"><pre>LogisticRegression()</pre></div> </div></div></div></div>"
      ],
      "text/plain": [
       "LogisticRegression()"
      ]
     },
     "execution_count": 427,
     "metadata": {},
     "output_type": "execute_result"
    }
   ],
   "source": [
    "reg.fit(x_train,y_train)"
   ]
  },
  {
   "cell_type": "code",
   "execution_count": 428,
   "metadata": {
    "colab": {
     "base_uri": "https://localhost:8080/"
    },
    "id": "UXOIh-vUb_rA",
    "outputId": "65d278b3-0bd5-40dd-93b0-4cfde584af68"
   },
   "outputs": [
    {
     "data": {
      "text/plain": [
       "0.7746031746031746"
      ]
     },
     "execution_count": 428,
     "metadata": {},
     "output_type": "execute_result"
    }
   ],
   "source": [
    "reg.score(x_train,y_train)"
   ]
  },
  {
   "cell_type": "markdown",
   "metadata": {
    "id": "eAN0-NX2cWRL"
   },
   "source": [
    "### Manual check of accuracy"
   ]
  },
  {
   "cell_type": "code",
   "execution_count": 430,
   "metadata": {
    "colab": {
     "base_uri": "https://localhost:8080/"
    },
    "id": "8PgRkGxRcAFP",
    "outputId": "a7bf40dd-7679-4e41-ae0e-c5d49278cb0d"
   },
   "outputs": [
    {
     "data": {
      "text/plain": [
       "array([0, 0, 1, 0, 1, 0, 1, 1, 1, 1, 0, 0, 0, 1, 0, 0, 1, 1, 0, 1, 0, 0,\n",
       "       0, 0, 0, 1, 0, 1, 0, 0, 1, 1, 1, 1, 0, 0, 0, 1, 1, 0, 0, 1, 1, 0,\n",
       "       1, 1, 1, 1, 1, 0, 0, 0, 1, 0, 0, 0, 0, 0, 1, 0, 1, 0, 0, 0, 0, 1,\n",
       "       0, 0, 0, 0, 0, 1, 1, 1, 1, 0, 0, 1, 0, 1, 1, 1, 0, 1, 0, 0, 0, 0,\n",
       "       0, 1, 1, 0, 0, 0, 0, 0, 0, 1, 1, 0, 0, 1, 0, 1, 0, 0, 0, 0, 0, 0,\n",
       "       1, 0, 1, 1, 1, 0, 0, 0, 1, 1, 1, 1, 0, 0, 0, 0, 1, 0, 0, 0, 0, 0,\n",
       "       1, 0, 0, 0, 0, 0, 0, 0, 0, 1, 1, 0, 0, 0, 1, 0, 0, 1, 1, 1, 0, 0,\n",
       "       0, 1, 1, 0, 0, 1, 0, 0, 1, 0, 0, 0, 0, 1, 0, 1, 1, 1, 1, 0, 1, 1,\n",
       "       0, 0, 1, 0, 0, 1, 0, 1, 1, 0, 0, 0, 1, 1, 1, 1, 1, 0, 0, 1, 0, 1,\n",
       "       0, 0, 1, 0, 0, 0, 0, 0, 1, 0, 0, 0, 0, 0, 1, 1, 1, 0, 0, 1, 0, 1,\n",
       "       0, 0, 1, 1, 1, 1, 0, 1, 0, 0, 1, 0, 1, 0, 0, 1, 1, 0, 1, 1, 0, 0,\n",
       "       0, 0, 1, 0, 0, 0, 0, 0, 1, 0, 0, 1, 1, 0, 0, 1, 0, 0, 1, 1, 1, 0,\n",
       "       0, 0, 0, 1, 1, 0, 0, 1, 1, 0, 0, 0, 1, 0, 0, 0, 1, 1, 1, 0, 0, 0,\n",
       "       0, 0, 0, 1, 1, 0, 0, 0, 1, 0, 0, 0, 1, 0, 0, 1, 1, 0, 0, 1, 1, 0,\n",
       "       0, 0, 0, 1, 0, 0, 1, 0, 1, 1, 1, 0, 1, 0, 1, 0, 1, 0, 1, 1, 0, 1,\n",
       "       1, 1, 1, 1, 0, 0, 0, 0, 0, 0, 1, 1, 0, 0, 1, 0, 1, 1, 0, 1, 0, 0,\n",
       "       1, 0, 1, 0, 0, 0, 1, 0, 0, 0, 0, 1, 1, 1, 1, 1, 1, 1, 0, 0, 0, 0,\n",
       "       0, 1, 0, 0, 1, 0, 0, 0, 1, 0, 1, 0, 1, 1, 0, 0, 0, 0, 1, 1, 1, 1,\n",
       "       0, 0, 1, 1, 0, 0, 1, 0, 0, 1, 1, 0, 0, 0, 0, 0, 0, 0, 0, 1, 1, 1,\n",
       "       0, 0, 0, 1, 0, 0, 1, 0, 1, 1, 0, 0, 1, 0, 1, 1, 1, 0, 0, 0, 0, 1,\n",
       "       1, 1, 0, 0, 1, 1, 1, 1, 0, 0, 1, 1, 0, 1, 0, 1, 1, 1, 0, 1, 0, 1,\n",
       "       0, 0, 0, 0, 0, 0, 0, 0, 0, 1, 1, 0, 1, 1, 0, 1, 0, 0, 0, 1, 1, 0,\n",
       "       1, 1, 1, 0, 0, 0, 0, 1, 1, 0, 1, 0, 0, 1, 0, 0, 1, 0, 1, 1, 1, 0,\n",
       "       0, 1, 1, 0, 0, 0, 0, 0, 0, 0, 0, 0, 0, 1, 1, 1, 1, 0, 1, 1, 0, 0,\n",
       "       0, 0, 0, 0, 1, 1, 0, 0, 0, 0, 1, 0, 0, 0, 1, 0, 1, 1, 0, 0, 1, 0,\n",
       "       0, 1, 0, 0, 0, 0, 0, 0, 0, 1, 0, 0, 1, 0, 0, 0, 0, 1, 0, 0, 1, 0,\n",
       "       1, 0, 0, 0, 0, 1, 1, 0, 1, 0, 0, 0, 1, 1, 1, 1, 0, 0, 1, 1, 0, 0,\n",
       "       1, 0, 1, 1, 0, 1, 1, 0, 1, 1, 1, 0, 0, 0, 1, 1, 1, 0, 1, 1, 0, 1,\n",
       "       1, 0, 0, 0, 0, 1, 0, 0, 1, 1, 0, 0, 0, 0])"
      ]
     },
     "execution_count": 430,
     "metadata": {},
     "output_type": "execute_result"
    }
   ],
   "source": [
    "model_outputs_train=reg.predict(x_train)\n",
    "model_outputs_train"
   ]
  },
  {
   "cell_type": "code",
   "execution_count": 431,
   "metadata": {
    "colab": {
     "base_uri": "https://localhost:8080/"
    },
    "id": "t4hjn1IwcAIQ",
    "outputId": "598d4684-8f8e-4130-de23-eb5712273a93"
   },
   "outputs": [
    {
     "data": {
      "text/plain": [
       "array([0, 0, 1, 0, 1, 0, 1, 0, 1, 0, 0, 0, 0, 0, 1, 0, 0, 0, 0, 1, 0, 0,\n",
       "       1, 1, 0, 1, 0, 1, 0, 1, 1, 1, 1, 1, 0, 0, 0, 1, 1, 1, 0, 1, 0, 0,\n",
       "       1, 1, 1, 0, 0, 0, 0, 0, 1, 1, 0, 0, 0, 0, 1, 0, 0, 0, 0, 0, 1, 0,\n",
       "       0, 1, 0, 0, 0, 1, 1, 1, 1, 0, 0, 1, 0, 1, 0, 1, 1, 0, 0, 0, 0, 0,\n",
       "       1, 1, 0, 0, 1, 1, 0, 0, 0, 0, 1, 0, 0, 1, 0, 1, 0, 0, 0, 1, 1, 1,\n",
       "       1, 0, 1, 1, 1, 0, 0, 0, 1, 1, 1, 1, 0, 0, 0, 1, 1, 0, 0, 1, 0, 0,\n",
       "       1, 0, 0, 0, 0, 0, 0, 1, 0, 1, 1, 0, 0, 1, 1, 0, 0, 1, 1, 0, 0, 1,\n",
       "       0, 1, 0, 1, 1, 1, 0, 0, 1, 0, 0, 0, 0, 0, 0, 1, 1, 1, 1, 0, 1, 1,\n",
       "       0, 0, 1, 0, 0, 1, 1, 1, 1, 0, 0, 1, 1, 1, 1, 1, 0, 0, 0, 1, 0, 1,\n",
       "       0, 0, 1, 1, 0, 0, 0, 0, 0, 0, 0, 0, 0, 0, 1, 0, 1, 1, 0, 0, 0, 1,\n",
       "       0, 0, 0, 1, 0, 1, 0, 0, 0, 1, 1, 0, 1, 1, 0, 0, 1, 1, 1, 0, 0, 0,\n",
       "       0, 0, 1, 0, 0, 0, 0, 0, 1, 0, 0, 1, 1, 1, 0, 1, 0, 0, 0, 1, 1, 0,\n",
       "       0, 0, 0, 1, 1, 0, 0, 1, 1, 1, 0, 0, 0, 1, 0, 0, 1, 1, 1, 0, 0, 1,\n",
       "       0, 1, 0, 0, 1, 0, 0, 0, 0, 0, 1, 0, 1, 0, 0, 1, 1, 1, 1, 0, 1, 1,\n",
       "       0, 0, 0, 0, 0, 0, 1, 0, 1, 1, 1, 1, 1, 0, 1, 0, 1, 0, 1, 1, 1, 1,\n",
       "       1, 1, 0, 0, 0, 0, 0, 0, 0, 0, 0, 1, 0, 0, 1, 0, 1, 0, 1, 0, 0, 0,\n",
       "       1, 0, 0, 0, 1, 0, 1, 0, 0, 0, 0, 1, 0, 1, 0, 0, 1, 1, 0, 0, 0, 1,\n",
       "       0, 1, 0, 0, 0, 1, 0, 1, 1, 0, 1, 0, 1, 1, 0, 0, 1, 0, 1, 0, 0, 1,\n",
       "       0, 0, 1, 1, 1, 0, 0, 0, 0, 1, 1, 1, 0, 0, 0, 1, 0, 1, 0, 1, 1, 1,\n",
       "       0, 0, 0, 1, 0, 0, 1, 0, 1, 1, 0, 0, 0, 0, 1, 0, 1, 1, 0, 0, 0, 1,\n",
       "       1, 1, 0, 0, 1, 1, 1, 1, 0, 0, 1, 0, 0, 1, 0, 0, 1, 1, 1, 1, 1, 1,\n",
       "       1, 0, 1, 0, 0, 0, 0, 0, 0, 0, 1, 0, 1, 1, 0, 1, 0, 0, 0, 1, 1, 0,\n",
       "       0, 1, 1, 1, 0, 1, 0, 1, 0, 0, 1, 0, 1, 1, 0, 1, 1, 1, 1, 1, 1, 0,\n",
       "       0, 0, 0, 0, 0, 0, 0, 1, 0, 0, 0, 0, 0, 1, 0, 1, 1, 0, 0, 0, 0, 0,\n",
       "       0, 0, 1, 0, 1, 1, 0, 0, 0, 0, 1, 0, 1, 0, 1, 1, 0, 1, 0, 1, 1, 0,\n",
       "       0, 1, 0, 0, 1, 1, 0, 0, 1, 1, 0, 0, 1, 1, 0, 0, 0, 1, 0, 1, 1, 0,\n",
       "       1, 0, 0, 1, 0, 1, 0, 0, 1, 0, 0, 1, 1, 1, 1, 1, 0, 1, 1, 1, 1, 1,\n",
       "       0, 0, 1, 0, 0, 1, 1, 1, 1, 1, 1, 0, 0, 0, 1, 1, 1, 1, 1, 1, 0, 1,\n",
       "       1, 0, 0, 0, 0, 0, 0, 1, 1, 1, 1, 0, 1, 0])"
      ]
     },
     "execution_count": 431,
     "metadata": {},
     "output_type": "execute_result"
    }
   ],
   "source": [
    "y_train"
   ]
  },
  {
   "cell_type": "code",
   "execution_count": 432,
   "metadata": {
    "colab": {
     "base_uri": "https://localhost:8080/"
    },
    "id": "47Wil_PvcALc",
    "outputId": "ed2370d2-1edd-4d3e-d570-0842e413c7a7"
   },
   "outputs": [
    {
     "data": {
      "text/plain": [
       "array([ True,  True,  True,  True,  True,  True,  True, False,  True,\n",
       "       False,  True,  True,  True, False, False,  True, False, False,\n",
       "        True,  True,  True,  True, False, False,  True,  True,  True,\n",
       "        True,  True, False,  True,  True,  True,  True,  True,  True,\n",
       "        True,  True,  True, False,  True,  True, False,  True,  True,\n",
       "        True,  True, False, False,  True,  True,  True,  True, False,\n",
       "        True,  True,  True,  True,  True,  True, False,  True,  True,\n",
       "        True, False, False,  True, False,  True,  True,  True,  True,\n",
       "        True,  True,  True,  True,  True,  True,  True,  True, False,\n",
       "        True, False, False,  True,  True,  True,  True, False,  True,\n",
       "       False,  True, False, False,  True,  True,  True, False,  True,\n",
       "        True,  True,  True,  True,  True,  True,  True,  True, False,\n",
       "       False, False,  True,  True,  True,  True,  True,  True,  True,\n",
       "        True,  True,  True,  True,  True,  True,  True,  True, False,\n",
       "        True,  True,  True, False,  True,  True,  True,  True,  True,\n",
       "        True,  True,  True,  True, False,  True,  True,  True,  True,\n",
       "        True, False,  True,  True,  True,  True,  True, False,  True,\n",
       "       False,  True,  True, False, False, False,  True,  True,  True,\n",
       "        True,  True,  True,  True,  True, False,  True,  True,  True,\n",
       "        True,  True,  True,  True,  True,  True,  True,  True,  True,\n",
       "        True,  True, False,  True,  True,  True,  True, False,  True,\n",
       "        True,  True,  True, False,  True,  True,  True,  True,  True,\n",
       "        True,  True,  True, False,  True,  True,  True,  True, False,\n",
       "        True,  True,  True,  True,  True,  True, False,  True, False,\n",
       "        True, False,  True,  True,  True,  True, False,  True, False,\n",
       "        True,  True, False,  True, False,  True,  True,  True, False,\n",
       "        True, False,  True, False,  True, False,  True,  True,  True,\n",
       "        True,  True,  True,  True,  True,  True,  True,  True,  True,\n",
       "        True,  True,  True, False,  True,  True,  True,  True, False,\n",
       "        True,  True,  True,  True,  True,  True,  True,  True,  True,\n",
       "        True,  True,  True, False,  True,  True, False, False,  True,\n",
       "        True,  True,  True,  True,  True,  True, False,  True, False,\n",
       "        True, False,  True,  True,  True,  True, False,  True, False,\n",
       "        True,  True,  True,  True,  True,  True, False, False, False,\n",
       "        True, False,  True,  True,  True, False,  True,  True,  True,\n",
       "        True,  True,  True,  True, False,  True,  True,  True,  True,\n",
       "        True,  True,  True,  True, False,  True,  True,  True, False,\n",
       "       False,  True,  True,  True,  True,  True,  True, False,  True,\n",
       "        True,  True,  True,  True,  True, False, False, False,  True,\n",
       "        True,  True,  True, False,  True, False,  True,  True,  True,\n",
       "        True,  True,  True,  True, False,  True, False, False,  True,\n",
       "        True,  True,  True,  True, False,  True,  True,  True,  True,\n",
       "       False, False,  True, False,  True,  True,  True,  True,  True,\n",
       "        True,  True,  True, False,  True,  True, False, False,  True,\n",
       "        True,  True,  True,  True, False,  True, False,  True,  True,\n",
       "        True,  True, False,  True,  True,  True, False,  True, False,\n",
       "        True,  True,  True,  True,  True,  True,  True,  True,  True,\n",
       "        True,  True,  True,  True,  True,  True,  True, False,  True,\n",
       "        True, False,  True, False,  True,  True,  True,  True,  True,\n",
       "        True,  True,  True,  True,  True,  True,  True,  True,  True,\n",
       "        True, False,  True,  True,  True, False,  True,  True, False,\n",
       "        True, False,  True, False,  True, False,  True,  True,  True,\n",
       "        True,  True,  True, False,  True,  True,  True,  True,  True,\n",
       "        True,  True,  True,  True,  True,  True,  True, False,  True,\n",
       "        True, False,  True, False,  True,  True, False,  True,  True,\n",
       "        True, False,  True,  True, False,  True, False,  True,  True,\n",
       "        True,  True,  True, False, False,  True,  True,  True,  True,\n",
       "       False,  True,  True,  True,  True,  True,  True, False,  True,\n",
       "        True,  True, False, False,  True,  True,  True,  True, False,\n",
       "        True,  True,  True,  True,  True,  True,  True,  True,  True,\n",
       "       False,  True,  True, False, False,  True,  True, False,  True,\n",
       "        True,  True,  True,  True,  True, False, False,  True,  True,\n",
       "       False,  True,  True,  True,  True, False,  True,  True,  True,\n",
       "        True,  True, False,  True,  True,  True,  True,  True, False,\n",
       "        True,  True, False,  True,  True,  True,  True, False,  True,\n",
       "        True,  True,  True,  True, False,  True,  True, False, False,\n",
       "       False,  True,  True, False,  True,  True,  True, False,  True,\n",
       "        True,  True,  True,  True,  True,  True,  True,  True, False,\n",
       "        True,  True,  True,  True,  True,  True,  True,  True,  True,\n",
       "       False,  True, False,  True,  True, False,  True, False,  True])"
      ]
     },
     "execution_count": 432,
     "metadata": {},
     "output_type": "execute_result"
    }
   ],
   "source": [
    "model_outputs_train==y_train"
   ]
  },
  {
   "cell_type": "code",
   "execution_count": 433,
   "metadata": {
    "colab": {
     "base_uri": "https://localhost:8080/"
    },
    "id": "nzCzYK5McAOw",
    "outputId": "bd75e28a-205c-468d-cea4-eaac2487b2a7"
   },
   "outputs": [
    {
     "data": {
      "text/plain": [
       "0.7746031746031746"
      ]
     },
     "execution_count": 433,
     "metadata": {},
     "output_type": "execute_result"
    }
   ],
   "source": [
    "np.sum(model_outputs_train==y_train)/model_outputs_train.shape[0]"
   ]
  },
  {
   "cell_type": "markdown",
   "metadata": {
    "id": "EVCzfhQwBur8"
   },
   "source": [
    "To use this logistic regression model outside of the python, we must get our hands on the coefficients and the intercept."
   ]
  },
  {
   "cell_type": "markdown",
   "metadata": {
    "id": "MQBpdLpxCAYh"
   },
   "source": [
    "## Finding Intercepts and coefficients\n"
   ]
  },
  {
   "cell_type": "code",
   "execution_count": 436,
   "metadata": {
    "colab": {
     "base_uri": "https://localhost:8080/"
    },
    "id": "gcuNtTwhcASX",
    "outputId": "3e2c0447-d92e-460e-9dd7-ad825515484f"
   },
   "outputs": [
    {
     "data": {
      "text/plain": [
       "array([-1.73292111])"
      ]
     },
     "execution_count": 436,
     "metadata": {},
     "output_type": "execute_result"
    }
   ],
   "source": [
    "reg.intercept_"
   ]
  },
  {
   "cell_type": "code",
   "execution_count": 437,
   "metadata": {
    "colab": {
     "base_uri": "https://localhost:8080/"
    },
    "id": "O6Jx3mcIdl9w",
    "outputId": "fe0aeceb-7141-4dab-a8f1-407b702f9abb"
   },
   "outputs": [
    {
     "data": {
      "text/plain": [
       "array([[ 2.82471854,  0.97443912,  3.17196219,  0.88495493,  0.13513268,\n",
       "         0.60753258, -0.24286724,  0.2881857 , -0.16188624,  0.37034273,\n",
       "        -0.32579991]])"
      ]
     },
     "execution_count": 437,
     "metadata": {},
     "output_type": "execute_result"
    }
   ],
   "source": [
    "reg.coef_"
   ]
  },
  {
   "cell_type": "markdown",
   "metadata": {
    "id": "LiumaMuKCrnA"
   },
   "source": [
    "all of them are in ndarray"
   ]
  },
  {
   "cell_type": "code",
   "execution_count": 439,
   "metadata": {
    "id": "sR8qHo5PDHw1"
   },
   "outputs": [],
   "source": [
    "# since scaled_inputs are in ndarray\n",
    "#scaled_inputs.columns.values"
   ]
  },
  {
   "cell_type": "code",
   "execution_count": 440,
   "metadata": {
    "colab": {
     "base_uri": "https://localhost:8080/"
    },
    "id": "fn6NRnd5ELpa",
    "outputId": "9129be1e-837f-4db4-c8b6-7ea41eef43a4"
   },
   "outputs": [
    {
     "data": {
      "text/plain": [
       "array(['Reason_1', 'Reason_2', 'Reason_3', 'Reason_4', 'Month_value',\n",
       "       'Transportation Expense', 'Age', 'Body Mass Index', 'Education',\n",
       "       'Children', 'Pets'], dtype=object)"
      ]
     },
     "execution_count": 440,
     "metadata": {},
     "output_type": "execute_result"
    }
   ],
   "source": [
    "unscaled_inputs.columns.values"
   ]
  },
  {
   "cell_type": "code",
   "execution_count": 441,
   "metadata": {
    "colab": {
     "base_uri": "https://localhost:8080/",
     "height": 739
    },
    "id": "WIUTZRRMFNQx",
    "outputId": "800127bc-f2f1-4ae2-822c-d6e68c39e78b"
   },
   "outputs": [
    {
     "data": {
      "text/html": [
       "<div>\n",
       "<style scoped>\n",
       "    .dataframe tbody tr th:only-of-type {\n",
       "        vertical-align: middle;\n",
       "    }\n",
       "\n",
       "    .dataframe tbody tr th {\n",
       "        vertical-align: top;\n",
       "    }\n",
       "\n",
       "    .dataframe thead th {\n",
       "        text-align: right;\n",
       "    }\n",
       "</style>\n",
       "<table border=\"1\" class=\"dataframe\">\n",
       "  <thead>\n",
       "    <tr style=\"text-align: right;\">\n",
       "      <th></th>\n",
       "      <th>Feature Names</th>\n",
       "      <th>coefficient</th>\n",
       "    </tr>\n",
       "  </thead>\n",
       "  <tbody>\n",
       "    <tr>\n",
       "      <th>0</th>\n",
       "      <td>Reason_1</td>\n",
       "      <td>2.824719</td>\n",
       "    </tr>\n",
       "    <tr>\n",
       "      <th>1</th>\n",
       "      <td>Reason_2</td>\n",
       "      <td>0.974439</td>\n",
       "    </tr>\n",
       "    <tr>\n",
       "      <th>2</th>\n",
       "      <td>Reason_3</td>\n",
       "      <td>3.171962</td>\n",
       "    </tr>\n",
       "    <tr>\n",
       "      <th>3</th>\n",
       "      <td>Reason_4</td>\n",
       "      <td>0.884955</td>\n",
       "    </tr>\n",
       "    <tr>\n",
       "      <th>4</th>\n",
       "      <td>Month_value</td>\n",
       "      <td>0.135133</td>\n",
       "    </tr>\n",
       "    <tr>\n",
       "      <th>5</th>\n",
       "      <td>Transportation Expense</td>\n",
       "      <td>0.607533</td>\n",
       "    </tr>\n",
       "    <tr>\n",
       "      <th>6</th>\n",
       "      <td>Age</td>\n",
       "      <td>-0.242867</td>\n",
       "    </tr>\n",
       "    <tr>\n",
       "      <th>7</th>\n",
       "      <td>Body Mass Index</td>\n",
       "      <td>0.288186</td>\n",
       "    </tr>\n",
       "    <tr>\n",
       "      <th>8</th>\n",
       "      <td>Education</td>\n",
       "      <td>-0.161886</td>\n",
       "    </tr>\n",
       "    <tr>\n",
       "      <th>9</th>\n",
       "      <td>Children</td>\n",
       "      <td>0.370343</td>\n",
       "    </tr>\n",
       "    <tr>\n",
       "      <th>10</th>\n",
       "      <td>Pets</td>\n",
       "      <td>-0.325800</td>\n",
       "    </tr>\n",
       "  </tbody>\n",
       "</table>\n",
       "</div>"
      ],
      "text/plain": [
       "             Feature Names  coefficient\n",
       "0                 Reason_1     2.824719\n",
       "1                 Reason_2     0.974439\n",
       "2                 Reason_3     3.171962\n",
       "3                 Reason_4     0.884955\n",
       "4              Month_value     0.135133\n",
       "5   Transportation Expense     0.607533\n",
       "6                      Age    -0.242867\n",
       "7          Body Mass Index     0.288186\n",
       "8                Education    -0.161886\n",
       "9                 Children     0.370343\n",
       "10                    Pets    -0.325800"
      ]
     },
     "execution_count": 441,
     "metadata": {},
     "output_type": "execute_result"
    }
   ],
   "source": [
    "sum_table=pd.DataFrame(columns=[\"Feature Names\"],data=unscaled_inputs.columns.values)\n",
    "sum_table[\"coefficient\"]=np.transpose(reg.coef_)\n",
    "sum_table"
   ]
  },
  {
   "cell_type": "code",
   "execution_count": 442,
   "metadata": {
    "colab": {
     "base_uri": "https://localhost:8080/",
     "height": 770
    },
    "id": "qo8uonBQJ44n",
    "outputId": "44741ca1-5106-4e99-b2ab-b959143a4623"
   },
   "outputs": [
    {
     "data": {
      "text/html": [
       "<div>\n",
       "<style scoped>\n",
       "    .dataframe tbody tr th:only-of-type {\n",
       "        vertical-align: middle;\n",
       "    }\n",
       "\n",
       "    .dataframe tbody tr th {\n",
       "        vertical-align: top;\n",
       "    }\n",
       "\n",
       "    .dataframe thead th {\n",
       "        text-align: right;\n",
       "    }\n",
       "</style>\n",
       "<table border=\"1\" class=\"dataframe\">\n",
       "  <thead>\n",
       "    <tr style=\"text-align: right;\">\n",
       "      <th></th>\n",
       "      <th>Feature Names</th>\n",
       "      <th>coefficient</th>\n",
       "    </tr>\n",
       "  </thead>\n",
       "  <tbody>\n",
       "    <tr>\n",
       "      <th>0</th>\n",
       "      <td>intercept</td>\n",
       "      <td>-1.732921</td>\n",
       "    </tr>\n",
       "    <tr>\n",
       "      <th>1</th>\n",
       "      <td>Reason_1</td>\n",
       "      <td>2.824719</td>\n",
       "    </tr>\n",
       "    <tr>\n",
       "      <th>2</th>\n",
       "      <td>Reason_2</td>\n",
       "      <td>0.974439</td>\n",
       "    </tr>\n",
       "    <tr>\n",
       "      <th>3</th>\n",
       "      <td>Reason_3</td>\n",
       "      <td>3.171962</td>\n",
       "    </tr>\n",
       "    <tr>\n",
       "      <th>4</th>\n",
       "      <td>Reason_4</td>\n",
       "      <td>0.884955</td>\n",
       "    </tr>\n",
       "    <tr>\n",
       "      <th>5</th>\n",
       "      <td>Month_value</td>\n",
       "      <td>0.135133</td>\n",
       "    </tr>\n",
       "    <tr>\n",
       "      <th>6</th>\n",
       "      <td>Transportation Expense</td>\n",
       "      <td>0.607533</td>\n",
       "    </tr>\n",
       "    <tr>\n",
       "      <th>7</th>\n",
       "      <td>Age</td>\n",
       "      <td>-0.242867</td>\n",
       "    </tr>\n",
       "    <tr>\n",
       "      <th>8</th>\n",
       "      <td>Body Mass Index</td>\n",
       "      <td>0.288186</td>\n",
       "    </tr>\n",
       "    <tr>\n",
       "      <th>9</th>\n",
       "      <td>Education</td>\n",
       "      <td>-0.161886</td>\n",
       "    </tr>\n",
       "    <tr>\n",
       "      <th>10</th>\n",
       "      <td>Children</td>\n",
       "      <td>0.370343</td>\n",
       "    </tr>\n",
       "    <tr>\n",
       "      <th>11</th>\n",
       "      <td>Pets</td>\n",
       "      <td>-0.325800</td>\n",
       "    </tr>\n",
       "  </tbody>\n",
       "</table>\n",
       "</div>"
      ],
      "text/plain": [
       "             Feature Names  coefficient\n",
       "0                intercept    -1.732921\n",
       "1                 Reason_1     2.824719\n",
       "2                 Reason_2     0.974439\n",
       "3                 Reason_3     3.171962\n",
       "4                 Reason_4     0.884955\n",
       "5              Month_value     0.135133\n",
       "6   Transportation Expense     0.607533\n",
       "7                      Age    -0.242867\n",
       "8          Body Mass Index     0.288186\n",
       "9                Education    -0.161886\n",
       "10                Children     0.370343\n",
       "11                    Pets    -0.325800"
      ]
     },
     "execution_count": 442,
     "metadata": {},
     "output_type": "execute_result"
    }
   ],
   "source": [
    "sum_table.index+=1\n",
    "sum_table.loc[0]=[\"intercept\",reg.intercept_[0]]\n",
    "sum_table=sum_table.sort_index()\n",
    "sum_table"
   ]
  },
  {
   "cell_type": "markdown",
   "metadata": {
    "id": "r7lPRhJDKyVU"
   },
   "source": [
    "* Coefficients are also called weights, and the intercept is called bias.\n",
    "\n",
    "* There are coefficient values and standardized coefficient values.\n",
    "\n",
    "* Standardized coefficient values are from regression where all variables have been standardized.\n",
    "\n",
    "* Standardized coefficients allow for easy comparison between variables.\n",
    "\n",
    "* Standardized features have a variance of one or the same scale.\n",
    "\n",
    "* When the scale is standard, the feature with the bigger weight is more important.\n",
    "\n",
    "* Log odds are a result of the logistic regression model.\n",
    "\n",
    "* Logistic regression is a linear function predicting log odds.\n",
    "\n",
    "* Log odds are transformed into zeros and ones.\n",
    "\n",
    "* To make coefficients more interpretable, find the exponentials of these coefficients.\n",
    "\n",
    "* Create a new series in the data frame called \"odds ratio.\"\n",
    "\n",
    "* Odds ratio is the term for the exponentials of the coefficients.\n",
    "\n",
    "\n",
    "\n",
    "\n",
    "\n",
    "\n"
   ]
  },
  {
   "cell_type": "code",
   "execution_count": 444,
   "metadata": {
    "colab": {
     "base_uri": "https://localhost:8080/",
     "height": 770
    },
    "id": "YxSdC8DlK6-Q",
    "outputId": "a33b7cad-0b30-4190-8bc4-f824effb16c6"
   },
   "outputs": [
    {
     "data": {
      "text/html": [
       "<div>\n",
       "<style scoped>\n",
       "    .dataframe tbody tr th:only-of-type {\n",
       "        vertical-align: middle;\n",
       "    }\n",
       "\n",
       "    .dataframe tbody tr th {\n",
       "        vertical-align: top;\n",
       "    }\n",
       "\n",
       "    .dataframe thead th {\n",
       "        text-align: right;\n",
       "    }\n",
       "</style>\n",
       "<table border=\"1\" class=\"dataframe\">\n",
       "  <thead>\n",
       "    <tr style=\"text-align: right;\">\n",
       "      <th></th>\n",
       "      <th>Feature Names</th>\n",
       "      <th>coefficient</th>\n",
       "      <th>odds_ratio</th>\n",
       "    </tr>\n",
       "  </thead>\n",
       "  <tbody>\n",
       "    <tr>\n",
       "      <th>3</th>\n",
       "      <td>Reason_3</td>\n",
       "      <td>3.171962</td>\n",
       "      <td>23.854245</td>\n",
       "    </tr>\n",
       "    <tr>\n",
       "      <th>1</th>\n",
       "      <td>Reason_1</td>\n",
       "      <td>2.824719</td>\n",
       "      <td>16.856200</td>\n",
       "    </tr>\n",
       "    <tr>\n",
       "      <th>2</th>\n",
       "      <td>Reason_2</td>\n",
       "      <td>0.974439</td>\n",
       "      <td>2.649681</td>\n",
       "    </tr>\n",
       "    <tr>\n",
       "      <th>4</th>\n",
       "      <td>Reason_4</td>\n",
       "      <td>0.884955</td>\n",
       "      <td>2.422875</td>\n",
       "    </tr>\n",
       "    <tr>\n",
       "      <th>6</th>\n",
       "      <td>Transportation Expense</td>\n",
       "      <td>0.607533</td>\n",
       "      <td>1.835896</td>\n",
       "    </tr>\n",
       "    <tr>\n",
       "      <th>10</th>\n",
       "      <td>Children</td>\n",
       "      <td>0.370343</td>\n",
       "      <td>1.448231</td>\n",
       "    </tr>\n",
       "    <tr>\n",
       "      <th>8</th>\n",
       "      <td>Body Mass Index</td>\n",
       "      <td>0.288186</td>\n",
       "      <td>1.334005</td>\n",
       "    </tr>\n",
       "    <tr>\n",
       "      <th>5</th>\n",
       "      <td>Month_value</td>\n",
       "      <td>0.135133</td>\n",
       "      <td>1.144689</td>\n",
       "    </tr>\n",
       "    <tr>\n",
       "      <th>9</th>\n",
       "      <td>Education</td>\n",
       "      <td>-0.161886</td>\n",
       "      <td>0.850538</td>\n",
       "    </tr>\n",
       "    <tr>\n",
       "      <th>7</th>\n",
       "      <td>Age</td>\n",
       "      <td>-0.242867</td>\n",
       "      <td>0.784376</td>\n",
       "    </tr>\n",
       "    <tr>\n",
       "      <th>11</th>\n",
       "      <td>Pets</td>\n",
       "      <td>-0.325800</td>\n",
       "      <td>0.721950</td>\n",
       "    </tr>\n",
       "    <tr>\n",
       "      <th>0</th>\n",
       "      <td>intercept</td>\n",
       "      <td>-1.732921</td>\n",
       "      <td>0.176767</td>\n",
       "    </tr>\n",
       "  </tbody>\n",
       "</table>\n",
       "</div>"
      ],
      "text/plain": [
       "             Feature Names  coefficient  odds_ratio\n",
       "3                 Reason_3     3.171962   23.854245\n",
       "1                 Reason_1     2.824719   16.856200\n",
       "2                 Reason_2     0.974439    2.649681\n",
       "4                 Reason_4     0.884955    2.422875\n",
       "6   Transportation Expense     0.607533    1.835896\n",
       "10                Children     0.370343    1.448231\n",
       "8          Body Mass Index     0.288186    1.334005\n",
       "5              Month_value     0.135133    1.144689\n",
       "9                Education    -0.161886    0.850538\n",
       "7                      Age    -0.242867    0.784376\n",
       "11                    Pets    -0.325800    0.721950\n",
       "0                intercept    -1.732921    0.176767"
      ]
     },
     "execution_count": 444,
     "metadata": {},
     "output_type": "execute_result"
    }
   ],
   "source": [
    "sum_table[\"odds_ratio\"]=np.exp(sum_table.coefficient)\n",
    "sum_table.sort_values(\"odds_ratio\",ascending=False)"
   ]
  },
  {
   "cell_type": "markdown",
   "metadata": {
    "id": "zVbJ-rs7UEru"
   },
   "source": [
    "    \n",
    "    A feature is not particularly important\n",
    "      if it's coefficient is around zero\n",
    "      if it's odds ratio is around 1.\n"
   ]
  },
  {
   "cell_type": "markdown",
   "metadata": {
    "id": "ZP7zp9hMKnnM"
   },
   "source": [
    "## Testing"
   ]
  },
  {
   "cell_type": "code",
   "execution_count": 447,
   "metadata": {
    "colab": {
     "base_uri": "https://localhost:8080/"
    },
    "id": "XEQIiaxDS87K",
    "outputId": "901096e7-ccde-4267-e5bb-3821086f3104"
   },
   "outputs": [
    {
     "data": {
      "text/plain": [
       "0.7428571428571429"
      ]
     },
     "execution_count": 447,
     "metadata": {},
     "output_type": "execute_result"
    }
   ],
   "source": [
    "reg.score(x_test,y_test)"
   ]
  },
  {
   "cell_type": "code",
   "execution_count": 448,
   "metadata": {
    "colab": {
     "base_uri": "https://localhost:8080/"
    },
    "id": "tnf79pGQS_Q0",
    "outputId": "84131f01-b188-4fa5-ced6-534affeff94e"
   },
   "outputs": [
    {
     "data": {
      "text/plain": [
       "array([[0.7282886 , 0.2717114 ],\n",
       "       [0.61433155, 0.38566845],\n",
       "       [0.46390039, 0.53609961],\n",
       "       [0.78492657, 0.21507343],\n",
       "       [0.08249603, 0.91750397],\n",
       "       [0.34408264, 0.65591736],\n",
       "       [0.31384333, 0.68615667],\n",
       "       [0.14488408, 0.85511592],\n",
       "       [0.78065507, 0.21934493],\n",
       "       [0.75773174, 0.24226826],\n",
       "       [0.51744489, 0.48255511],\n",
       "       [0.20659517, 0.79340483],\n",
       "       [0.06658285, 0.93341715],\n",
       "       [0.72847971, 0.27152029],\n",
       "       [0.36967613, 0.63032387],\n",
       "       [0.51480062, 0.48519938],\n",
       "       [0.56530396, 0.43469604],\n",
       "       [0.55580029, 0.44419971],\n",
       "       [0.47272726, 0.52727274],\n",
       "       [0.05428556, 0.94571444],\n",
       "       [0.7075823 , 0.2924177 ],\n",
       "       [0.78492657, 0.21507343],\n",
       "       [0.44292396, 0.55707604],\n",
       "       [0.44292396, 0.55707604],\n",
       "       [0.24355915, 0.75644085],\n",
       "       [0.7458461 , 0.2541539 ],\n",
       "       [0.51739563, 0.48260437],\n",
       "       [0.84987133, 0.15012867],\n",
       "       [0.2139883 , 0.7860117 ],\n",
       "       [0.78492657, 0.21507343],\n",
       "       [0.65019207, 0.34980793],\n",
       "       [0.32137955, 0.67862045],\n",
       "       [0.32688311, 0.67311689],\n",
       "       [0.49816113, 0.50183887],\n",
       "       [0.78492657, 0.21507343],\n",
       "       [0.45391668, 0.54608332],\n",
       "       [0.77397714, 0.22602286],\n",
       "       [0.24836783, 0.75163217],\n",
       "       [0.62520589, 0.37479411],\n",
       "       [0.38481908, 0.61518092],\n",
       "       [0.79136821, 0.20863179],\n",
       "       [0.5255982 , 0.4744018 ],\n",
       "       [0.76019388, 0.23980612],\n",
       "       [0.60248062, 0.39751938],\n",
       "       [0.21681119, 0.78318881],\n",
       "       [0.43342431, 0.56657569],\n",
       "       [0.30211301, 0.69788699],\n",
       "       [0.7282886 , 0.2717114 ],\n",
       "       [0.79197954, 0.20802046],\n",
       "       [0.79766664, 0.20233336],\n",
       "       [0.42020874, 0.57979126],\n",
       "       [0.6624212 , 0.3375788 ],\n",
       "       [0.34408264, 0.65591736],\n",
       "       [0.75127217, 0.24872783],\n",
       "       [0.18630402, 0.81369598],\n",
       "       [0.59589585, 0.40410415],\n",
       "       [0.12071157, 0.87928843],\n",
       "       [0.75787958, 0.24212042],\n",
       "       [0.69369865, 0.30630135],\n",
       "       [0.68544008, 0.31455992],\n",
       "       [0.28992406, 0.71007594],\n",
       "       [0.35284175, 0.64715825],\n",
       "       [0.70495732, 0.29504268],\n",
       "       [0.20979308, 0.79020692],\n",
       "       [0.79420485, 0.20579515],\n",
       "       [0.7432864 , 0.2567136 ],\n",
       "       [0.9151601 , 0.0848399 ],\n",
       "       [0.77397714, 0.22602286],\n",
       "       [0.27886307, 0.72113693],\n",
       "       [0.69690356, 0.30309644]])"
      ]
     },
     "execution_count": 448,
     "metadata": {},
     "output_type": "execute_result"
    }
   ],
   "source": [
    "predict_probabilty=reg.predict_proba(x_test)\n",
    "predict_probabilty"
   ]
  },
  {
   "cell_type": "markdown",
   "metadata": {
    "id": "DbFI-4uuTehJ"
   },
   "source": [
    "The first column shows the probability our model assigned to the observation being 0. And 2nd the probability the model assigned to the observation being 1. That's why summing any two numbers horizontally will give you an output of 1"
   ]
  },
  {
   "cell_type": "code",
   "execution_count": 450,
   "metadata": {
    "colab": {
     "base_uri": "https://localhost:8080/"
    },
    "id": "vEU5yXDJTOsK",
    "outputId": "81193983-5662-4053-86d4-9b81525d25a1"
   },
   "outputs": [
    {
     "data": {
      "text/plain": [
       "(70, 2)"
      ]
     },
     "execution_count": 450,
     "metadata": {},
     "output_type": "execute_result"
    }
   ],
   "source": [
    "predict_probabilty.shape"
   ]
  },
  {
   "cell_type": "code",
   "execution_count": 451,
   "metadata": {
    "colab": {
     "base_uri": "https://localhost:8080/"
    },
    "id": "vhxcrFTzTOwh",
    "outputId": "d8d14472-3da1-4fd2-a186-63f0fedb421a"
   },
   "outputs": [
    {
     "data": {
      "text/plain": [
       "array([0.2717114 , 0.38566845, 0.53609961, 0.21507343, 0.91750397,\n",
       "       0.65591736, 0.68615667, 0.85511592, 0.21934493, 0.24226826,\n",
       "       0.48255511, 0.79340483, 0.93341715, 0.27152029, 0.63032387,\n",
       "       0.48519938, 0.43469604, 0.44419971, 0.52727274, 0.94571444,\n",
       "       0.2924177 , 0.21507343, 0.55707604, 0.55707604, 0.75644085,\n",
       "       0.2541539 , 0.48260437, 0.15012867, 0.7860117 , 0.21507343,\n",
       "       0.34980793, 0.67862045, 0.67311689, 0.50183887, 0.21507343,\n",
       "       0.54608332, 0.22602286, 0.75163217, 0.37479411, 0.61518092,\n",
       "       0.20863179, 0.4744018 , 0.23980612, 0.39751938, 0.78318881,\n",
       "       0.56657569, 0.69788699, 0.2717114 , 0.20802046, 0.20233336,\n",
       "       0.57979126, 0.3375788 , 0.65591736, 0.24872783, 0.81369598,\n",
       "       0.40410415, 0.87928843, 0.24212042, 0.30630135, 0.31455992,\n",
       "       0.71007594, 0.64715825, 0.29504268, 0.79020692, 0.20579515,\n",
       "       0.2567136 , 0.0848399 , 0.22602286, 0.72113693, 0.30309644])"
      ]
     },
     "execution_count": 451,
     "metadata": {},
     "output_type": "execute_result"
    }
   ],
   "source": [
    "# we want 1 i.e probality of excessive absenteeism\n",
    "predict_probabilty[:,1]"
   ]
  },
  {
   "cell_type": "markdown",
   "metadata": {
    "id": "fzcXYUPfUb7E"
   },
   "source": [
    "## Save the Model\n",
    "We use pickle to save (It is a python module)\n",
    "This means we will save the reg variable into a file. This file will then be loaded into new notebook, and thus we'll be able to use the machine learning algorithm"
   ]
  },
  {
   "cell_type": "code",
   "execution_count": 453,
   "metadata": {
    "id": "JgiXZhmbUNUk"
   },
   "outputs": [],
   "source": [
    "import pickle"
   ]
  },
  {
   "cell_type": "code",
   "execution_count": 454,
   "metadata": {
    "id": "1P0_cyF9UNZW"
   },
   "outputs": [],
   "source": [
    "with open('model','wb') as file:\n",
    "  pickle.dump(reg,file)"
   ]
  },
  {
   "cell_type": "code",
   "execution_count": 455,
   "metadata": {
    "id": "rGtpoTRfTO3b"
   },
   "outputs": [],
   "source": [
    "with open('scaler','wb') as file:\n",
    "  pickle.dump(absent_scaler,file)"
   ]
  },
  {
   "cell_type": "code",
   "execution_count": 456,
   "metadata": {
    "colab": {
     "base_uri": "https://localhost:8080/"
    },
    "id": "sCL4ht7WZz0T",
    "outputId": "12949c29-e86e-4ed3-9e7e-d74406739074"
   },
   "outputs": [
    {
     "data": {
      "text/plain": [
       "array(['Reason_1', 'Reason_2', 'Reason_3', 'Reason_4', 'Month_value',\n",
       "       'Day of the Week', 'Transportation Expense', 'Distance to Work',\n",
       "       'Age', 'Daily Work Load Average', 'Body Mass Index', 'Education',\n",
       "       'Children', 'Pets', 'Absenteeism Time in Hours',\n",
       "       'Excessive Absenteeism'], dtype=object)"
      ]
     },
     "execution_count": 456,
     "metadata": {},
     "output_type": "execute_result"
    }
   ],
   "source": [
    "data.columns.values"
   ]
  },
  {
   "cell_type": "code",
   "execution_count": null,
   "metadata": {
    "id": "yJIstR0gbflM"
   },
   "outputs": [],
   "source": []
  }
 ],
 "metadata": {
  "colab": {
   "provenance": [],
   "toc_visible": true
  },
  "kernelspec": {
   "display_name": "Python [conda env:base] *",
   "language": "python",
   "name": "conda-base-py"
  },
  "language_info": {
   "codemirror_mode": {
    "name": "ipython",
    "version": 3
   },
   "file_extension": ".py",
   "mimetype": "text/x-python",
   "name": "python",
   "nbconvert_exporter": "python",
   "pygments_lexer": "ipython3",
   "version": "3.12.7"
  }
 },
 "nbformat": 4,
 "nbformat_minor": 4
}
